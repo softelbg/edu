{
 "cells": [
  {
   "cell_type": "code",
   "execution_count": null,
   "id": "13318c59",
   "metadata": {},
   "outputs": [],
   "source": [
    "import requests\n",
    "import os\n",
    "import cv2\n",
    "import base64\n",
    "from IPython.display import Image, display\n",
    "import numpy as np\n",
    "from openai import OpenAI\n",
    "\n",
    "# Initializing OpenAI client - see https://platform.openai.com/docs/quickstart?context=python\n",
    "client = OpenAI()"
   ]
  },
  {
   "cell_type": "code",
   "execution_count": null,
   "id": "866e3738",
   "metadata": {},
   "outputs": [],
   "source": [
    "api_key = os.environ.get('OPENAI_API_KEY')"
   ]
  },
  {
   "cell_type": "code",
   "execution_count": null,
   "id": "c6fa46dc",
   "metadata": {},
   "outputs": [],
   "source": [
    "image_path = '/Users/ivanivanov/my_documents/Documents/sinbat.jpg'"
   ]
  },
  {
   "cell_type": "code",
   "execution_count": null,
   "id": "a6dda485",
   "metadata": {},
   "outputs": [],
   "source": [
    "image = cv2.imread(image_path)\n",
    "_, buffer = cv2.imencode('.jpg', image)\n",
    "jpg_as_text = base64.b64encode(buffer).decode('utf-8')"
   ]
  },
  {
   "cell_type": "code",
   "execution_count": null,
   "id": "ee90095d",
   "metadata": {
    "scrolled": true
   },
   "outputs": [],
   "source": [
    "jpg_as_text"
   ]
  },
  {
   "cell_type": "code",
   "execution_count": null,
   "id": "73398c22",
   "metadata": {},
   "outputs": [],
   "source": [
    "display_handle = display(None, display_id=True)\n",
    "display_handle.update(Image(data=base64.b64decode(jpg_as_text.encode(\"utf-8\"))))"
   ]
  },
  {
   "cell_type": "code",
   "execution_count": null,
   "id": "aa36bfe6",
   "metadata": {},
   "outputs": [],
   "source": [
    "PROMPT_MESSAGES = [\n",
    "    {\n",
    "        \"role\": \"user\",\n",
    "        \"content\": [\n",
    "            \"I uploaded a photo, return what is on the wall and description of image\",\n",
    "            {\"image\": jpg_as_text, \"resize\": 768},\n",
    "        ],\n",
    "    },\n",
    "]\n",
    "\n",
    "params = {\n",
    "    \"model\": \"gpt-4-vision-preview\",\n",
    "    \"messages\": PROMPT_MESSAGES,\n",
    "    \"max_tokens\": 300,\n",
    "}"
   ]
  },
  {
   "cell_type": "code",
   "execution_count": null,
   "id": "366c82c1",
   "metadata": {},
   "outputs": [],
   "source": [
    "result = client.chat.completions.create(**params)"
   ]
  },
  {
   "cell_type": "code",
   "execution_count": null,
   "id": "ccf5e376",
   "metadata": {},
   "outputs": [],
   "source": [
    "print(result.choices[0].message.content)"
   ]
  },
  {
   "cell_type": "code",
   "execution_count": null,
   "id": "cbe51dde",
   "metadata": {},
   "outputs": [],
   "source": []
  }
 ],
 "metadata": {
  "kernelspec": {
   "display_name": "Python 3 (ipykernel)",
   "language": "python",
   "name": "python3"
  },
  "language_info": {
   "codemirror_mode": {
    "name": "ipython",
    "version": 3
   },
   "file_extension": ".py",
   "mimetype": "text/x-python",
   "name": "python",
   "nbconvert_exporter": "python",
   "pygments_lexer": "ipython3",
   "version": "3.8.10"
  }
 },
 "nbformat": 4,
 "nbformat_minor": 5
}
