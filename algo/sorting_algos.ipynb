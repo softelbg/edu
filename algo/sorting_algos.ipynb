{
 "cells": [
  {
   "cell_type": "code",
   "execution_count": 1,
   "id": "c2845a61",
   "metadata": {},
   "outputs": [],
   "source": [
    "import time\n",
    "import random\n",
    "import math\n",
    "\n",
    "from sciveo.tools.complexity import ComplexityEval"
   ]
  },
  {
   "cell_type": "markdown",
   "id": "c6c79099",
   "metadata": {},
   "source": [
    "### Helper functions"
   ]
  },
  {
   "cell_type": "markdown",
   "id": "ce92378d",
   "metadata": {},
   "source": [
    "#### We will randomly generate an array with N integers"
   ]
  },
  {
   "cell_type": "code",
   "execution_count": 2,
   "id": "cb501a58",
   "metadata": {},
   "outputs": [],
   "source": [
    "k = 0\n",
    "\n",
    "N = 2048\n",
    "a_to = 10000\n",
    "a = [random.randint(-a_to, a_to) for _ in range(N)]"
   ]
  },
  {
   "cell_type": "code",
   "execution_count": null,
   "id": "6b4df185",
   "metadata": {},
   "outputs": [],
   "source": []
  },
  {
   "cell_type": "code",
   "execution_count": 3,
   "id": "749bb818",
   "metadata": {},
   "outputs": [],
   "source": [
    "def print_complexity(a, k):\n",
    "  ComplexityEval(a).print(k)"
   ]
  },
  {
   "cell_type": "code",
   "execution_count": 4,
   "id": "8ed6f35b",
   "metadata": {},
   "outputs": [],
   "source": [
    "def swap(a, idx1, idx2):\n",
    "  a[idx1], a[idx2] = a[idx2], a[idx1]"
   ]
  },
  {
   "cell_type": "code",
   "execution_count": 5,
   "id": "3d9e9114",
   "metadata": {},
   "outputs": [],
   "source": [
    "def runit(fn, current_list=None):\n",
    "  global a\n",
    "  global k\n",
    "  \n",
    "  if current_list is None:\n",
    "    current_list = a\n",
    "\n",
    "  k = 1\n",
    "  t1 = time.time()\n",
    "  result = fn(current_list.copy())\n",
    "  elapsed = time.time() - t1\n",
    "  print(f\"seconds elapsed {elapsed:.2f}\")\n",
    "  print_complexity(current_list, k)\n",
    "  return result"
   ]
  },
  {
   "cell_type": "markdown",
   "id": "522f9e46",
   "metadata": {},
   "source": [
    "# Sorting Algorithms"
   ]
  },
  {
   "cell_type": "markdown",
   "id": "8c2d4507",
   "metadata": {},
   "source": [
    "## Naive algorithms, have around N*N time complexity"
   ]
  },
  {
   "cell_type": "code",
   "execution_count": 6,
   "id": "c8e49afc",
   "metadata": {},
   "outputs": [],
   "source": [
    "def bubble_sort(a):\n",
    "  global k\n",
    "  \n",
    "  flag = True\n",
    "\n",
    "  while(flag):\n",
    "    flag = False\n",
    "    for i in range(0, len(a) - 1):\n",
    "      k += 1\n",
    "      if a[i] > a[i + 1]:\n",
    "        swap(a, i, i + 1)\n",
    "        flag = True\n",
    "  \n",
    "  return a"
   ]
  },
  {
   "cell_type": "code",
   "execution_count": 7,
   "id": "7524ad2b",
   "metadata": {},
   "outputs": [
    {
     "name": "stdout",
     "output_type": "stream",
     "text": [
      "seconds elapsed 0.57\n",
      "size 2048 iterations 4063296 (N^2.00)(4194304) [logN=11.0 N=2048 NlogN=22528 N^2=4194304 N^3=8589934592]\n",
      "O(N) = N^2\n"
     ]
    }
   ],
   "source": [
    "sorted_a = runit(bubble_sort)"
   ]
  },
  {
   "cell_type": "code",
   "execution_count": 8,
   "id": "fac2856f",
   "metadata": {},
   "outputs": [],
   "source": [
    "def bubble_sort_optimised(a):\n",
    "  global k\n",
    "  \n",
    "  idx = 0\n",
    "\n",
    "  while(idx >= 0):\n",
    "    start_idx = max(0, idx - 1)\n",
    "    idx = -1\n",
    "    for i in range(start_idx, len(a) - 1):\n",
    "      k += 1\n",
    "      if a[i] > a[i + 1]: # Swap 2 adjacent elements if wrong order\n",
    "        swap(a, i, i + 1)\n",
    "        if idx < 0: idx = i\n",
    "  \n",
    "  return a"
   ]
  },
  {
   "cell_type": "code",
   "execution_count": 9,
   "id": "c53b325a",
   "metadata": {},
   "outputs": [
    {
     "name": "stdout",
     "output_type": "stream",
     "text": [
      "seconds elapsed 0.45\n",
      "size 2048 iterations 3999617 (N^1.99)(4194304) [logN=11.0 N=2048 NlogN=22528 N^2=4194304 N^3=8589934592]\n",
      "O(N) = N^2\n"
     ]
    }
   ],
   "source": [
    "sorted_a = runit(bubble_sort_optimised)\n",
    "# So not really need to optimise such naive algorithms, but better think of more clever solutions!"
   ]
  },
  {
   "cell_type": "markdown",
   "id": "233d3272",
   "metadata": {},
   "source": [
    "### Trying to optimize naive N^2 algorithms is with minor impact on the time complexity"
   ]
  },
  {
   "cell_type": "code",
   "execution_count": null,
   "id": "dcdba739",
   "metadata": {},
   "outputs": [],
   "source": []
  },
  {
   "cell_type": "code",
   "execution_count": 10,
   "id": "64473c93",
   "metadata": {},
   "outputs": [],
   "source": [
    "def selection_sort(a):\n",
    "  global k\n",
    "\n",
    "  for i in range(0, len(a) - 1):\n",
    "    min_element_idx = i\n",
    "    for j in range(i + 1, len(a)):\n",
    "      k += 1\n",
    "      if a[min_element_idx] > a[j]:\n",
    "        min_element_idx = j\n",
    "    swap(a, i, min_element_idx)\n",
    "  \n",
    "  return a"
   ]
  },
  {
   "cell_type": "code",
   "execution_count": 11,
   "id": "0653340c",
   "metadata": {},
   "outputs": [
    {
     "name": "stdout",
     "output_type": "stream",
     "text": [
      "seconds elapsed 0.23\n",
      "size 2048 iterations 2096129 (N^1.91)(4194304) [logN=11.0 N=2048 NlogN=22528 N^2=4194304 N^3=8589934592]\n",
      "O(N) = N^2\n"
     ]
    }
   ],
   "source": [
    "sorted_a = runit(selection_sort)"
   ]
  },
  {
   "cell_type": "code",
   "execution_count": null,
   "id": "8c30e5d2",
   "metadata": {},
   "outputs": [],
   "source": []
  },
  {
   "cell_type": "code",
   "execution_count": 12,
   "id": "664777ad",
   "metadata": {},
   "outputs": [],
   "source": [
    "def insert_sort(a):\n",
    "  global k\n",
    "  \n",
    "  if len(a) <= 1:\n",
    "    return a\n",
    "  \n",
    "  sorted_a = [a[0]]\n",
    "  \n",
    "  for i in range(1, len(a)):\n",
    "    for j in range(0, len(sorted_a)):\n",
    "      k += 1\n",
    "      if sorted_a[j] > a[i]:\n",
    "        break\n",
    "    sorted_a.insert(j, a[i])\n",
    "        \n",
    "  return sorted_a"
   ]
  },
  {
   "cell_type": "code",
   "execution_count": 13,
   "id": "945f77c7",
   "metadata": {},
   "outputs": [
    {
     "name": "stdout",
     "output_type": "stream",
     "text": [
      "seconds elapsed 0.08\n",
      "size 2048 iterations 1069636 (N^1.82)(4194304) [logN=11.0 N=2048 NlogN=22528 N^2=4194304 N^3=8589934592]\n",
      "O(N) = N^2\n"
     ]
    }
   ],
   "source": [
    "sorted_a = runit(insert_sort)"
   ]
  },
  {
   "cell_type": "code",
   "execution_count": 14,
   "id": "15f0b06f",
   "metadata": {},
   "outputs": [],
   "source": [
    "# sorted_a"
   ]
  },
  {
   "cell_type": "markdown",
   "id": "b89dab88",
   "metadata": {},
   "source": [
    "### Insert and selection sorts are with better performance compared to bubble sort, but still ~ N^2"
   ]
  },
  {
   "cell_type": "markdown",
   "id": "e1ddf5a6",
   "metadata": {},
   "source": [
    "### Selection sort could be improved if change the linear min element search with more clever LogN search."
   ]
  },
  {
   "cell_type": "code",
   "execution_count": null,
   "id": "1bd001c9",
   "metadata": {},
   "outputs": [],
   "source": []
  },
  {
   "cell_type": "markdown",
   "id": "6d618296",
   "metadata": {},
   "source": [
    "## Smarter sorting algos with NLogN time complexity"
   ]
  },
  {
   "cell_type": "markdown",
   "id": "656dffbd",
   "metadata": {},
   "source": [
    "### Merge Sort"
   ]
  },
  {
   "cell_type": "code",
   "execution_count": 15,
   "id": "2bbb4f50",
   "metadata": {},
   "outputs": [],
   "source": [
    "def merge_2_sorted_arrays(a1, a2):\n",
    "  global k\n",
    "  a = []\n",
    "  i1 = 0\n",
    "  i2 = 0\n",
    "  \n",
    "  while(i1 < len(a1) and i2 < len(a2)):\n",
    "    if a1[i1] < a2[i2]:\n",
    "      a.append(a1[i1])\n",
    "      i1 += 1\n",
    "    else:\n",
    "      a.append(a2[i2])\n",
    "      i2 += 1\n",
    "    k += 1\n",
    "      \n",
    "  while(i1 < len(a1)):\n",
    "    a.append(a1[i1])\n",
    "    i1 += 1\n",
    "    k += 1\n",
    "  while(i2 < len(a2)):\n",
    "    a.append(a2[i2])\n",
    "    i2 += 1\n",
    "    k += 1\n",
    "\n",
    "  return a\n",
    "\n",
    "\n",
    "def merge_sort(a):\n",
    "  if len(a) <= 1:\n",
    "    return a\n",
    "  \n",
    "  l = int(len(a) / 2) # Split array in 2 halves\n",
    "  a1 = a[:l]\n",
    "  a2 = a[l:]\n",
    "  \n",
    "  sorted_a1 = merge_sort(a1)\n",
    "  sorted_a2 = merge_sort(a2)\n",
    "  \n",
    "  sorted_a = merge_2_sorted_arrays(sorted_a1, sorted_a2)\n",
    "  return sorted_a"
   ]
  },
  {
   "cell_type": "code",
   "execution_count": 16,
   "id": "be411971",
   "metadata": {},
   "outputs": [
    {
     "name": "stdout",
     "output_type": "stream",
     "text": [
      "seconds elapsed 0.01\n",
      "size 2048 iterations 22529 (N^1.31)(22528) [logN=11.0 N=2048 NlogN=22528 N^2=4194304 N^3=8589934592]\n",
      "O(N) = NlogN\n"
     ]
    }
   ],
   "source": [
    "sorted_a = runit(merge_sort)"
   ]
  },
  {
   "cell_type": "markdown",
   "id": "40ab4bdc",
   "metadata": {},
   "source": [
    "### Merge sort has strict NLogN time complexity as always split the list in half"
   ]
  },
  {
   "cell_type": "code",
   "execution_count": null,
   "id": "adc97e62",
   "metadata": {},
   "outputs": [],
   "source": []
  },
  {
   "cell_type": "markdown",
   "id": "e95ddd0e",
   "metadata": {},
   "source": [
    "### Quick Sort"
   ]
  },
  {
   "cell_type": "code",
   "execution_count": 17,
   "id": "0ec311d8",
   "metadata": {},
   "outputs": [],
   "source": [
    "def quick_sort(a):\n",
    "  global k\n",
    "\n",
    "  if len(a) <= 4:\n",
    "    return insert_sort(a)\n",
    "  \n",
    "  r = a[random.randint(0, len(a) - 1)]\n",
    "\n",
    "  a1 = []\n",
    "  a2 = []\n",
    "  \n",
    "  for i in range(0, len(a)):\n",
    "    k += 1\n",
    "    if a[i] <= r:\n",
    "      a1.append(a[i])\n",
    "    else:\n",
    "      a2.append(a[i])\n",
    "\n",
    "  if len(a1) == 0 or len(a2) == 0:\n",
    "    return insert_sort(a)\n",
    "\n",
    "  sorted_a1 = quick_sort(a1)\n",
    "  sorted_a2 = quick_sort(a2)\n",
    "  \n",
    "  sorted_a = sorted_a1 + sorted_a2\n",
    "  return sorted_a"
   ]
  },
  {
   "cell_type": "code",
   "execution_count": 18,
   "id": "b4a813e0",
   "metadata": {},
   "outputs": [
    {
     "name": "stdout",
     "output_type": "stream",
     "text": [
      "seconds elapsed 0.01\n",
      "size 2048 iterations 29907 (N^1.35)(22528) [logN=11.0 N=2048 NlogN=22528 N^2=4194304 N^3=8589934592]\n",
      "O(N) = NlogN\n"
     ]
    }
   ],
   "source": [
    "sorted_a = runit(quick_sort)"
   ]
  },
  {
   "cell_type": "markdown",
   "id": "d89ffc16",
   "metadata": {},
   "source": [
    "### Major chalange in quick sort algorithm is to find the reference element, which is used to split the list."
   ]
  },
  {
   "cell_type": "code",
   "execution_count": null,
   "id": "5c1c6093",
   "metadata": {},
   "outputs": [],
   "source": []
  },
  {
   "cell_type": "markdown",
   "id": "82077372",
   "metadata": {},
   "source": [
    "### Heap Sort"
   ]
  },
  {
   "cell_type": "code",
   "execution_count": 19,
   "id": "c333f3f0",
   "metadata": {},
   "outputs": [],
   "source": [
    "def heapify(a, root_node, end_node):\n",
    "  global k; k += 1\n",
    "\n",
    "  largest_node = root_node\n",
    "  left_node = 2 * root_node + 1\n",
    "  right_node = 2 * root_node + 2\n",
    "\n",
    "  if left_node < end_node and a[root_node] < a[left_node]:\n",
    "    largest_node = left_node\n",
    "\n",
    "  if right_node < end_node and a[largest_node] < a[right_node]:\n",
    "    largest_node = right_node\n",
    "\n",
    "  if largest_node != root_node:\n",
    "    swap(a, root_node, largest_node)\n",
    "    heapify(a, largest_node, end_node)\n",
    "\n",
    "\n",
    "def heap_sort(a):\n",
    "  for i in range(len(a) // 2 - 1, -1, -1):\n",
    "    heapify(a, i, len(a))\n",
    "\n",
    "  for i in range(len(a) - 1, 0, -1):\n",
    "    swap(a, 0, i)\n",
    "    heapify(a, 0, i)\n",
    "  \n",
    "  return a\n"
   ]
  },
  {
   "cell_type": "code",
   "execution_count": 20,
   "id": "e9f0b444",
   "metadata": {},
   "outputs": [
    {
     "name": "stdout",
     "output_type": "stream",
     "text": [
      "seconds elapsed 0.02\n",
      "size 2048 iterations 21776 (N^1.31)(22528) [logN=11.0 N=2048 NlogN=22528 N^2=4194304 N^3=8589934592]\n",
      "O(N) = NlogN\n"
     ]
    }
   ],
   "source": [
    "sorted_a = runit(heap_sort)"
   ]
  },
  {
   "cell_type": "markdown",
   "id": "e5216add",
   "metadata": {},
   "source": [
    "### Heap sort is a smarter variant of Selection sort where the min element is in fact the root of heap tree interpretation of the first halve (unsorted) part of the list."
   ]
  },
  {
   "cell_type": "code",
   "execution_count": null,
   "id": "4e6b3662",
   "metadata": {},
   "outputs": [],
   "source": []
  },
  {
   "cell_type": "code",
   "execution_count": null,
   "id": "c9a732c4",
   "metadata": {},
   "outputs": [],
   "source": []
  },
  {
   "cell_type": "code",
   "execution_count": 21,
   "id": "2f320f71",
   "metadata": {},
   "outputs": [],
   "source": [
    "# sorted_a = runit(bubble_sort, sorted_a)"
   ]
  },
  {
   "cell_type": "code",
   "execution_count": 22,
   "id": "12b23b56",
   "metadata": {},
   "outputs": [],
   "source": [
    "# sorted_a"
   ]
  },
  {
   "cell_type": "code",
   "execution_count": 23,
   "id": "61b5fb94",
   "metadata": {},
   "outputs": [],
   "source": [
    "# a"
   ]
  },
  {
   "cell_type": "code",
   "execution_count": null,
   "id": "68a0cccc",
   "metadata": {},
   "outputs": [],
   "source": []
  }
 ],
 "metadata": {
  "kernelspec": {
   "display_name": "Python 3 (ipykernel)",
   "language": "python",
   "name": "python3"
  },
  "language_info": {
   "codemirror_mode": {
    "name": "ipython",
    "version": 3
   },
   "file_extension": ".py",
   "mimetype": "text/x-python",
   "name": "python",
   "nbconvert_exporter": "python",
   "pygments_lexer": "ipython3",
   "version": "3.9.12"
  }
 },
 "nbformat": 4,
 "nbformat_minor": 5
}
