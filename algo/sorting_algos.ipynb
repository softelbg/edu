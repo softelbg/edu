{
 "cells": [
  {
   "cell_type": "code",
   "execution_count": 1,
   "id": "f9936f56",
   "metadata": {},
   "outputs": [],
   "source": [
    "import random\n",
    "import math"
   ]
  },
  {
   "cell_type": "markdown",
   "id": "892f4a05",
   "metadata": {},
   "source": [
    "# Sorting Algorithms"
   ]
  },
  {
   "cell_type": "code",
   "execution_count": 2,
   "id": "1f5cb9b5",
   "metadata": {},
   "outputs": [],
   "source": [
    "k = 0\n",
    "a_to = 10000\n",
    "a = [random.randint(-a_to, a_to) for _ in range(1024)]"
   ]
  },
  {
   "cell_type": "code",
   "execution_count": 3,
   "id": "11c9f5ac",
   "metadata": {},
   "outputs": [],
   "source": [
    "def print_complexity(a, k):\n",
    "  print(\"size\", len(a), \"iterations\", k, \"O(N)\", f\"{(math.log(k) / math.log(len(a))):.2f}\", \"NlogN\", int(len(a) * math.log2(len(a))), \"N^2\", len(a) * len(a))\n"
   ]
  },
  {
   "cell_type": "markdown",
   "id": "33641b01",
   "metadata": {},
   "source": [
    "## Naive"
   ]
  },
  {
   "cell_type": "code",
   "execution_count": 4,
   "id": "49c80231",
   "metadata": {},
   "outputs": [],
   "source": [
    "def bubble_sort(a):\n",
    "  global k\n",
    "  \n",
    "  idx = 0\n",
    "\n",
    "  while(idx >= 0):\n",
    "    start_idx = max(0, idx - 1)\n",
    "    idx = -1\n",
    "    for i in range(start_idx, len(a) - 1):\n",
    "      k += 1\n",
    "      if a[i] > a[i + 1]: # Swap 2 adjacent elements if wrong order\n",
    "        b = a[i]\n",
    "        a[i] = a[i + 1]\n",
    "        a[i + 1] = b\n",
    "        if idx < 0: idx = i\n",
    "  \n",
    "  return a"
   ]
  },
  {
   "cell_type": "code",
   "execution_count": 5,
   "id": "79ed34e5",
   "metadata": {},
   "outputs": [
    {
     "name": "stdout",
     "output_type": "stream",
     "text": [
      "size 1024 iterations 994879 O(N) 1.99 NlogN 10240 N^2 1048576\n"
     ]
    }
   ],
   "source": [
    "k = 0\n",
    "sorted_a = bubble_sort(a.copy())\n",
    "print_complexity(a, k)"
   ]
  },
  {
   "cell_type": "code",
   "execution_count": null,
   "id": "3f482216",
   "metadata": {},
   "outputs": [],
   "source": []
  },
  {
   "cell_type": "code",
   "execution_count": 6,
   "id": "82624097",
   "metadata": {},
   "outputs": [],
   "source": [
    "def insert_sort(a):\n",
    "  global k\n",
    "  \n",
    "  if len(a) <= 1:\n",
    "    return a\n",
    "  \n",
    "  sorted_a = [a[0]]\n",
    "  \n",
    "  for i in range(1, len(a)):\n",
    "    for j in range(0, len(sorted_a)):\n",
    "      k += 1\n",
    "      if sorted_a[j] > a[i]:\n",
    "        break\n",
    "    sorted_a.insert(j, a[i])\n",
    "        \n",
    "  return sorted_a"
   ]
  },
  {
   "cell_type": "code",
   "execution_count": 7,
   "id": "cc6bf2e2",
   "metadata": {},
   "outputs": [
    {
     "name": "stdout",
     "output_type": "stream",
     "text": [
      "size 1024 iterations 254646 O(N) 1.80 NlogN 10240 N^2 1048576\n"
     ]
    }
   ],
   "source": [
    "k = 0\n",
    "sorted_a = insert_sort(a.copy())\n",
    "print_complexity(a, k)"
   ]
  },
  {
   "cell_type": "code",
   "execution_count": 8,
   "id": "9e27b3e8",
   "metadata": {},
   "outputs": [],
   "source": [
    "# sorted_a"
   ]
  },
  {
   "cell_type": "markdown",
   "id": "938b50b4",
   "metadata": {},
   "source": [
    "## smarter sorting algos"
   ]
  },
  {
   "cell_type": "markdown",
   "id": "b293654d",
   "metadata": {},
   "source": [
    "### Merge Sort"
   ]
  },
  {
   "cell_type": "code",
   "execution_count": 9,
   "id": "4fabce16",
   "metadata": {},
   "outputs": [],
   "source": [
    "def merge_2_sorted_arrays(a1, a2):\n",
    "  global k\n",
    "  a = []\n",
    "  i1 = 0\n",
    "  i2 = 0\n",
    "  \n",
    "  while(i1 < len(a1) and i2 < len(a2)):\n",
    "    if a1[i1] < a2[i2]:\n",
    "      a.append(a1[i1])\n",
    "      i1 += 1\n",
    "    else:\n",
    "      a.append(a2[i2])\n",
    "      i2 += 1\n",
    "    k += 1\n",
    "      \n",
    "  while(i1 < len(a1)):\n",
    "    a.append(a1[i1])\n",
    "    i1 += 1\n",
    "    k += 1\n",
    "  while(i2 < len(a2)):\n",
    "    a.append(a2[i2])\n",
    "    i2 += 1\n",
    "    k += 1\n",
    "\n",
    "  return a"
   ]
  },
  {
   "cell_type": "code",
   "execution_count": 10,
   "id": "58a35d15",
   "metadata": {},
   "outputs": [],
   "source": [
    "def merge_sort(a):\n",
    "  if len(a) <= 1:\n",
    "    return a\n",
    "  \n",
    "  l = int(len(a) / 2) # Split array in 2 halves\n",
    "  a1 = a[:l]\n",
    "  a2 = a[l:]\n",
    "  \n",
    "  sorted_a1 = merge_sort(a1)\n",
    "  sorted_a2 = merge_sort(a2)\n",
    "  \n",
    "  sorted_a = merge_2_sorted_arrays(sorted_a1, sorted_a2)\n",
    "  return sorted_a"
   ]
  },
  {
   "cell_type": "code",
   "execution_count": 11,
   "id": "b5b4008e",
   "metadata": {},
   "outputs": [
    {
     "name": "stdout",
     "output_type": "stream",
     "text": [
      "size 1024 iterations 10240 O(N) 1.33 NlogN 10240 N^2 1048576\n"
     ]
    }
   ],
   "source": [
    "k = 0\n",
    "sorted_a = merge_sort(a)\n",
    "print_complexity(a, k)"
   ]
  },
  {
   "cell_type": "code",
   "execution_count": null,
   "id": "4c940a9f",
   "metadata": {},
   "outputs": [],
   "source": []
  },
  {
   "cell_type": "markdown",
   "id": "c7d66fff",
   "metadata": {},
   "source": [
    "### Quick Sort"
   ]
  },
  {
   "cell_type": "code",
   "execution_count": 12,
   "id": "b5ee5566",
   "metadata": {},
   "outputs": [],
   "source": [
    "def quick_sort(a):\n",
    "  global k\n",
    "\n",
    "  if len(a) <= 8:\n",
    "    return insert_sort(a)\n",
    "  \n",
    "  r = a[random.randint(0, len(a) - 1)]\n",
    "\n",
    "  a1 = []\n",
    "  a2 = []\n",
    "  \n",
    "  for i in range(0, len(a)):\n",
    "    k += 1\n",
    "    if a[i] <= r:\n",
    "      a1.append(a[i])\n",
    "    else:\n",
    "      a2.append(a[i])\n",
    "\n",
    "  sorted_a1 = quick_sort(a1)\n",
    "  sorted_a2 = quick_sort(a2)\n",
    "  \n",
    "  sorted_a = sorted_a1 + sorted_a2\n",
    "  return sorted_a"
   ]
  },
  {
   "cell_type": "code",
   "execution_count": 13,
   "id": "5e8edac6",
   "metadata": {},
   "outputs": [
    {
     "name": "stdout",
     "output_type": "stream",
     "text": [
      "size 1024 iterations 12377 O(N) 1.36 NlogN 10240 N^2 1048576\n"
     ]
    }
   ],
   "source": [
    "k = 0\n",
    "sorted_a = quick_sort(a)\n",
    "print_complexity(a, k)"
   ]
  },
  {
   "cell_type": "code",
   "execution_count": 14,
   "id": "94a1cedc",
   "metadata": {},
   "outputs": [],
   "source": [
    "# sorted_a"
   ]
  },
  {
   "cell_type": "code",
   "execution_count": null,
   "id": "0573b6e4",
   "metadata": {},
   "outputs": [],
   "source": []
  }
 ],
 "metadata": {
  "kernelspec": {
   "display_name": "Python 3 (ipykernel)",
   "language": "python",
   "name": "python3"
  },
  "language_info": {
   "codemirror_mode": {
    "name": "ipython",
    "version": 3
   },
   "file_extension": ".py",
   "mimetype": "text/x-python",
   "name": "python",
   "nbconvert_exporter": "python",
   "pygments_lexer": "ipython3",
   "version": "3.9.12"
  }
 },
 "nbformat": 4,
 "nbformat_minor": 5
}
