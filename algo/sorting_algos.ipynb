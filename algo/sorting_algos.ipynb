{
 "cells": [
  {
   "cell_type": "code",
   "execution_count": 1,
   "id": "b9ae8cdc",
   "metadata": {},
   "outputs": [],
   "source": [
    "import random\n",
    "import math"
   ]
  },
  {
   "cell_type": "markdown",
   "id": "d3599fed",
   "metadata": {},
   "source": [
    "# Sorting Algorithms"
   ]
  },
  {
   "cell_type": "code",
   "execution_count": 2,
   "id": "85dcdb3c",
   "metadata": {},
   "outputs": [],
   "source": [
    "k = 0\n",
    "a_to = 10000\n",
    "a = [random.randint(-a_to, a_to) for _ in range(1024)]"
   ]
  },
  {
   "cell_type": "code",
   "execution_count": 3,
   "id": "c1db06b1",
   "metadata": {},
   "outputs": [],
   "source": [
    "def print_stats(a, k):\n",
    "  print(\"size\", len(a), \"iterations\", k, \"O(N)\", math.log(k) / math.log(len(a)), \"NlogN\", int(len(a) * math.log2(len(a))), \"N^2\", len(a) * len(a))\n"
   ]
  },
  {
   "cell_type": "markdown",
   "id": "a71e0f47",
   "metadata": {},
   "source": [
    "## Naive"
   ]
  },
  {
   "cell_type": "code",
   "execution_count": 4,
   "id": "b86f09ac",
   "metadata": {},
   "outputs": [],
   "source": [
    "def bubble_sort(a):\n",
    "  global k\n",
    "  \n",
    "  idx = 0\n",
    "\n",
    "  while(idx >= 0):\n",
    "    start_idx = max(0, idx - 1)\n",
    "    idx = -1\n",
    "    for i in range(start_idx, len(a) - 1):\n",
    "      k += 1\n",
    "      if a[i] > a[i + 1]:\n",
    "        b = a[i]\n",
    "        a[i] = a[i + 1]\n",
    "        a[i + 1] = b\n",
    "        if idx < 0: idx = i\n",
    "  \n",
    "  return a"
   ]
  },
  {
   "cell_type": "code",
   "execution_count": 5,
   "id": "a6d36664",
   "metadata": {},
   "outputs": [
    {
     "name": "stdout",
     "output_type": "stream",
     "text": [
      "size 1024 iterations 976582 O(N) 1.9897381661433224 NlogN 10240 N^2 1048576\n"
     ]
    }
   ],
   "source": [
    "k = 0\n",
    "sorted_a = bubble_sort(a.copy())\n",
    "print_stats(a, k)"
   ]
  },
  {
   "cell_type": "code",
   "execution_count": null,
   "id": "6703668e",
   "metadata": {},
   "outputs": [],
   "source": []
  },
  {
   "cell_type": "code",
   "execution_count": 6,
   "id": "5925024e",
   "metadata": {},
   "outputs": [],
   "source": [
    "def insert_sort(a):\n",
    "  global k\n",
    "  \n",
    "  sorted_a = []\n",
    "  \n",
    "  for i in range(0, len(a)):\n",
    "    if len(sorted_a) == 0:\n",
    "      sorted_a.append(a[i])\n",
    "      continue\n",
    "\n",
    "    for j in range(0, len(sorted_a)):\n",
    "      k += 1\n",
    "      if sorted_a[j] > a[i]:\n",
    "        break\n",
    "    sorted_a.insert(j, a[i])\n",
    "        \n",
    "  return sorted_a"
   ]
  },
  {
   "cell_type": "code",
   "execution_count": 7,
   "id": "04e55387",
   "metadata": {},
   "outputs": [
    {
     "name": "stdout",
     "output_type": "stream",
     "text": [
      "size 1024 iterations 265713 O(N) 1.8019509287800533 NlogN 10240 N^2 1048576\n"
     ]
    }
   ],
   "source": [
    "k = 0\n",
    "sorted_a = insert_sort(a.copy())\n",
    "print_stats(a, k)"
   ]
  },
  {
   "cell_type": "code",
   "execution_count": 8,
   "id": "ffc4c895",
   "metadata": {},
   "outputs": [],
   "source": [
    "# sorted_a"
   ]
  },
  {
   "cell_type": "markdown",
   "id": "3a70222a",
   "metadata": {},
   "source": [
    "## smarter sorting algos"
   ]
  },
  {
   "cell_type": "markdown",
   "id": "9e331737",
   "metadata": {},
   "source": [
    "### Merge Sort"
   ]
  },
  {
   "cell_type": "code",
   "execution_count": 9,
   "id": "bda72de8",
   "metadata": {},
   "outputs": [],
   "source": [
    "def merge_2_sorted_arrays(a1, a2):\n",
    "  global k\n",
    "  a = []\n",
    "  i1 = 0\n",
    "  i2 = 0\n",
    "  \n",
    "  while(i1 < len(a1) and i2 < len(a2)):\n",
    "    if a1[i1] < a2[i2]:\n",
    "      a.append(a1[i1])\n",
    "      i1 += 1\n",
    "    else:\n",
    "      a.append(a2[i2])\n",
    "      i2 += 1\n",
    "    k += 1\n",
    "      \n",
    "  while(i1 < len(a1)):\n",
    "    a.append(a1[i1])\n",
    "    i1 += 1\n",
    "    k += 1\n",
    "  while(i2 < len(a2)):\n",
    "    a.append(a2[i2])\n",
    "    i2 += 1\n",
    "    k += 1\n",
    "\n",
    "  return a"
   ]
  },
  {
   "cell_type": "code",
   "execution_count": 10,
   "id": "07083874",
   "metadata": {},
   "outputs": [],
   "source": [
    "def merge_sort(a):\n",
    "  if len(a) <= 1:\n",
    "    return a\n",
    "  \n",
    "  l = int(len(a) / 2) # Split array in 2 halves\n",
    "  a1 = a[:l]\n",
    "  a2 = a[l:]\n",
    "  \n",
    "  sorted_a1 = merge_sort(a1)\n",
    "  sorted_a2 = merge_sort(a2)\n",
    "  \n",
    "  sorted_a = merge_2_sorted_arrays(sorted_a1, sorted_a2)\n",
    "  return sorted_a"
   ]
  },
  {
   "cell_type": "code",
   "execution_count": 11,
   "id": "b6f03737",
   "metadata": {},
   "outputs": [
    {
     "name": "stdout",
     "output_type": "stream",
     "text": [
      "size 1024 iterations 10240 O(N) 1.3321928094887363 NlogN 10240 N^2 1048576\n"
     ]
    }
   ],
   "source": [
    "k = 0\n",
    "sorted_a = merge_sort(a)\n",
    "print_stats(a, k)"
   ]
  },
  {
   "cell_type": "code",
   "execution_count": null,
   "id": "74b70904",
   "metadata": {},
   "outputs": [],
   "source": []
  },
  {
   "cell_type": "markdown",
   "id": "ac3f75a8",
   "metadata": {},
   "source": [
    "### Quick Sort"
   ]
  },
  {
   "cell_type": "code",
   "execution_count": 12,
   "id": "4e8909ad",
   "metadata": {},
   "outputs": [],
   "source": [
    "def quick_sort(a):\n",
    "  if len(a) <= 3:\n",
    "    return insert_sort(a)\n",
    "  \n",
    "  r = a[random.randint(0, len(a) - 1)]\n",
    "\n",
    "  a1 = []\n",
    "  a2 = []\n",
    "  \n",
    "  for i in range(0, len(a)):\n",
    "    if a[i] <= r:\n",
    "      a1.append(a[i])\n",
    "    else:\n",
    "      a2.append(a[i])\n",
    "      \n",
    "#   print(\"a\", len(a), \"a1\", len(a1), \"a2\", len(a2))\n",
    "\n",
    "  sorted_a1 = quick_sort(a1)\n",
    "  sorted_a2 = quick_sort(a2)\n",
    "  \n",
    "  sorted_a = sorted_a1 + sorted_a2\n",
    "  return sorted_a"
   ]
  },
  {
   "cell_type": "code",
   "execution_count": 13,
   "id": "fb38f20b",
   "metadata": {},
   "outputs": [
    {
     "name": "stdout",
     "output_type": "stream",
     "text": [
      "size 1024 iterations 592 O(N) 0.9209453365628949 NlogN 10240 N^2 1048576\n"
     ]
    }
   ],
   "source": [
    "k = 0\n",
    "sorted_a = quick_sort(a)\n",
    "print_stats(a, k)"
   ]
  },
  {
   "cell_type": "code",
   "execution_count": 14,
   "id": "c901cf4d",
   "metadata": {},
   "outputs": [],
   "source": [
    "# sorted_a"
   ]
  },
  {
   "cell_type": "code",
   "execution_count": null,
   "id": "015ac895",
   "metadata": {},
   "outputs": [],
   "source": []
  }
 ],
 "metadata": {
  "kernelspec": {
   "display_name": "Python 3 (ipykernel)",
   "language": "python",
   "name": "python3"
  },
  "language_info": {
   "codemirror_mode": {
    "name": "ipython",
    "version": 3
   },
   "file_extension": ".py",
   "mimetype": "text/x-python",
   "name": "python",
   "nbconvert_exporter": "python",
   "pygments_lexer": "ipython3",
   "version": "3.9.12"
  }
 },
 "nbformat": 4,
 "nbformat_minor": 5
}
