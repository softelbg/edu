{
 "cells": [
  {
   "cell_type": "code",
   "execution_count": 1,
   "id": "7a2f7bd9",
   "metadata": {},
   "outputs": [],
   "source": [
    "import random\n",
    "import math"
   ]
  },
  {
   "cell_type": "markdown",
   "id": "c5554156",
   "metadata": {},
   "source": [
    "# Sorting Algorithms"
   ]
  },
  {
   "cell_type": "code",
   "execution_count": 2,
   "id": "e4796dca",
   "metadata": {},
   "outputs": [],
   "source": [
    "a_to = 10000\n",
    "a = [random.randint(-a_to, a_to) for _ in range(1024)]"
   ]
  },
  {
   "cell_type": "markdown",
   "id": "e2ec1495",
   "metadata": {},
   "source": [
    "## Naive"
   ]
  },
  {
   "cell_type": "code",
   "execution_count": 3,
   "id": "62499009",
   "metadata": {},
   "outputs": [],
   "source": [
    "def very_naive_sort(a):\n",
    "  global k\n",
    "  \n",
    "  flag = True\n",
    "\n",
    "  while(flag):\n",
    "    flag = False\n",
    "    for i in range(0, len(a) - 1):\n",
    "      k += 1\n",
    "      if a[i] > a[i + 1]:\n",
    "        b = a[i]\n",
    "        a[i] = a[i + 1]\n",
    "        a[i + 1] = b\n",
    "        flag = True\n",
    "        break\n",
    "  \n",
    "  return a"
   ]
  },
  {
   "cell_type": "code",
   "execution_count": 4,
   "id": "2ee54087",
   "metadata": {},
   "outputs": [],
   "source": [
    "k = 0\n",
    "sorted_a = very_naive_sort(a.copy())"
   ]
  },
  {
   "cell_type": "code",
   "execution_count": 5,
   "id": "a85857d8",
   "metadata": {},
   "outputs": [
    {
     "name": "stdout",
     "output_type": "stream",
     "text": [
      "size 1024 iterations 119015233 O(N) 2.6826570997901737 NlogN 10240 N^2 1048576\n"
     ]
    }
   ],
   "source": [
    "print(\"size\", len(a), \"iterations\", k, \"O(N)\", math.log(k) / math.log(len(a)), \"NlogN\", int(len(a) * math.log2(len(a))), \"N^2\", len(a) * len(a))\n"
   ]
  },
  {
   "cell_type": "code",
   "execution_count": null,
   "id": "7b23ba49",
   "metadata": {},
   "outputs": [],
   "source": []
  },
  {
   "cell_type": "markdown",
   "id": "2107584a",
   "metadata": {},
   "source": [
    "## smarter sorting algos"
   ]
  },
  {
   "cell_type": "markdown",
   "id": "a09d2e2c",
   "metadata": {},
   "source": [
    "### Merge Sort"
   ]
  },
  {
   "cell_type": "code",
   "execution_count": 6,
   "id": "db5d770e",
   "metadata": {},
   "outputs": [],
   "source": [
    "def merge_2_sorted_arrays(a1, a2):\n",
    "  global k\n",
    "  a = []\n",
    "  i1 = 0\n",
    "  i2 = 0\n",
    "  \n",
    "  while(i1 < len(a1) and i2 < len(a2)):\n",
    "    if a1[i1] < a2[i2]:\n",
    "      a.append(a1[i1])\n",
    "      i1 += 1\n",
    "    else:\n",
    "      a.append(a2[i2])\n",
    "      i2 += 1\n",
    "    k += 1\n",
    "      \n",
    "  while(i1 < len(a1)):\n",
    "    a.append(a1[i1])\n",
    "    i1 += 1\n",
    "    k += 1\n",
    "  while(i2 < len(a2)):\n",
    "    a.append(a2[i2])\n",
    "    i2 += 1\n",
    "    k += 1\n",
    "\n",
    "  return a"
   ]
  },
  {
   "cell_type": "code",
   "execution_count": 7,
   "id": "8625ffb2",
   "metadata": {},
   "outputs": [],
   "source": [
    "def merge_sort(a):\n",
    "  if len(a) <= 1:\n",
    "    return a\n",
    "  \n",
    "  l = int(len(a) / 2) # Split array in 2 halves\n",
    "  a1 = a[:l]\n",
    "  a2 = a[l:]\n",
    "  \n",
    "  sorted_a1 = merge_sort(a1)\n",
    "  sorted_a2 = merge_sort(a2)\n",
    "  \n",
    "  sorted_a = merge_2_sorted_arrays(sorted_a1, sorted_a2)\n",
    "  return sorted_a"
   ]
  },
  {
   "cell_type": "code",
   "execution_count": 8,
   "id": "0773b8bc",
   "metadata": {},
   "outputs": [
    {
     "name": "stdout",
     "output_type": "stream",
     "text": [
      "size 1024 iterations 10240 O(N) 1.3321928094887363 NlogN 10240 N^2 1048576\n"
     ]
    }
   ],
   "source": [
    "k = 0\n",
    "sorted_a = merge_sort(a)\n",
    "print(\"size\", len(a), \"iterations\", k, \"O(N)\", math.log(k) / math.log(len(a)), \"NlogN\", int(len(a) * math.log2(len(a))), \"N^2\", len(a) * len(a))\n"
   ]
  },
  {
   "cell_type": "code",
   "execution_count": null,
   "id": "a4cae630",
   "metadata": {},
   "outputs": [],
   "source": []
  },
  {
   "cell_type": "markdown",
   "id": "1874fb24",
   "metadata": {},
   "source": [
    "### Quick Sort"
   ]
  },
  {
   "cell_type": "code",
   "execution_count": 9,
   "id": "f62fefdf",
   "metadata": {},
   "outputs": [],
   "source": [
    "def quick_sort(a):\n",
    "  if len(a) <= 2:\n",
    "    return very_naive_sort(a)\n",
    "  \n",
    "  r = a[random.randint(0, len(a) - 1)]\n",
    "\n",
    "  a1 = []\n",
    "  a2 = []\n",
    "  \n",
    "  for i in range(0, len(a)):\n",
    "    if a[i] <= r:\n",
    "      a1.append(a[i])\n",
    "    else:\n",
    "      a2.append(a[i])\n",
    "\n",
    "  sorted_a1 = quick_sort(a1)\n",
    "  sorted_a2 = quick_sort(a2)\n",
    "  \n",
    "  sorted_a = sorted_a1 + sorted_a2\n",
    "  return sorted_a"
   ]
  },
  {
   "cell_type": "code",
   "execution_count": 10,
   "id": "fda2bb15",
   "metadata": {},
   "outputs": [
    {
     "name": "stdout",
     "output_type": "stream",
     "text": [
      "size 1024 iterations 500 O(N) 0.8965784284662086 NlogN 10240 N^2 1048576\n"
     ]
    }
   ],
   "source": [
    "k = 0\n",
    "sorted_a = quick_sort(a)\n",
    "print(\"size\", len(a), \"iterations\", k, \"O(N)\", math.log(k) / math.log(len(a)), \"NlogN\", int(len(a) * math.log2(len(a))), \"N^2\", len(a) * len(a))\n"
   ]
  },
  {
   "cell_type": "code",
   "execution_count": 11,
   "id": "c8816848",
   "metadata": {},
   "outputs": [],
   "source": [
    "# sorted_a"
   ]
  },
  {
   "cell_type": "code",
   "execution_count": null,
   "id": "76731220",
   "metadata": {},
   "outputs": [],
   "source": []
  }
 ],
 "metadata": {
  "kernelspec": {
   "display_name": "Python 3 (ipykernel)",
   "language": "python",
   "name": "python3"
  },
  "language_info": {
   "codemirror_mode": {
    "name": "ipython",
    "version": 3
   },
   "file_extension": ".py",
   "mimetype": "text/x-python",
   "name": "python",
   "nbconvert_exporter": "python",
   "pygments_lexer": "ipython3",
   "version": "3.9.12"
  }
 },
 "nbformat": 4,
 "nbformat_minor": 5
}
