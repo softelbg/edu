{
 "cells": [
  {
   "cell_type": "code",
   "execution_count": 1,
   "id": "c2845a61",
   "metadata": {},
   "outputs": [],
   "source": [
    "import time\n",
    "import random\n",
    "import math"
   ]
  },
  {
   "cell_type": "markdown",
   "id": "522f9e46",
   "metadata": {},
   "source": [
    "# Sorting Algorithms"
   ]
  },
  {
   "cell_type": "code",
   "execution_count": 2,
   "id": "cb501a58",
   "metadata": {},
   "outputs": [],
   "source": [
    "k = 0\n",
    "\n",
    "N = 2048\n",
    "a_to = 10000\n",
    "a = [random.randint(-a_to, a_to) for _ in range(N)]"
   ]
  },
  {
   "cell_type": "code",
   "execution_count": 3,
   "id": "cbba99b9",
   "metadata": {},
   "outputs": [],
   "source": [
    "def print_complexity(a, k):\n",
    "  print(\"size\", len(a), \"iterations\", k, \"O(N)\", f\"{(math.log(k) / math.log(len(a))):.2f}\", \"NlogN\", int(len(a) * math.log2(len(a))), \"N^2\", len(a) * len(a))\n"
   ]
  },
  {
   "cell_type": "code",
   "execution_count": 4,
   "id": "8ed6f35b",
   "metadata": {},
   "outputs": [],
   "source": [
    "def swap(a, idx1, idx2):\n",
    "  a[idx1], a[idx2] = a[idx2], a[idx1]"
   ]
  },
  {
   "cell_type": "code",
   "execution_count": 5,
   "id": "cc463441",
   "metadata": {},
   "outputs": [],
   "source": [
    "def runit(fn, current_list=None):\n",
    "  global a\n",
    "  global k\n",
    "  \n",
    "  if current_list is None:\n",
    "    current_list = a\n",
    "\n",
    "  k = 1\n",
    "  t1 = time.time()\n",
    "  result = fn(current_list.copy())\n",
    "  elapsed = time.time() - t1\n",
    "  print(f\"seconds elapsed {elapsed:.2f}\")\n",
    "  print_complexity(current_list, k)\n",
    "  return result"
   ]
  },
  {
   "cell_type": "markdown",
   "id": "8c2d4507",
   "metadata": {},
   "source": [
    "## Naive"
   ]
  },
  {
   "cell_type": "code",
   "execution_count": 6,
   "id": "c8e49afc",
   "metadata": {},
   "outputs": [],
   "source": [
    "def bubble_sort(a):\n",
    "  global k\n",
    "  \n",
    "  flag = True\n",
    "\n",
    "  while(flag):\n",
    "    flag = False\n",
    "    for i in range(0, len(a) - 1):\n",
    "      k += 1\n",
    "      if a[i] > a[i + 1]:\n",
    "        swap(a, i, i + 1)\n",
    "        flag = True\n",
    "  \n",
    "  return a"
   ]
  },
  {
   "cell_type": "code",
   "execution_count": 7,
   "id": "7524ad2b",
   "metadata": {},
   "outputs": [
    {
     "name": "stdout",
     "output_type": "stream",
     "text": [
      "seconds elapsed 0.73\n",
      "size 2048 iterations 4077625 O(N) 2.00 NlogN 22528 N^2 4194304\n"
     ]
    }
   ],
   "source": [
    "sorted_a = runit(bubble_sort)"
   ]
  },
  {
   "cell_type": "code",
   "execution_count": 8,
   "id": "fac2856f",
   "metadata": {},
   "outputs": [],
   "source": [
    "def bubble_sort_optimised(a):\n",
    "  global k\n",
    "  \n",
    "  idx = 0\n",
    "\n",
    "  while(idx >= 0):\n",
    "    start_idx = max(0, idx - 1)\n",
    "    idx = -1\n",
    "    for i in range(start_idx, len(a) - 1):\n",
    "      k += 1\n",
    "      if a[i] > a[i + 1]: # Swap 2 adjacent elements if wrong order\n",
    "        swap(a, i, i + 1)\n",
    "        if idx < 0: idx = i\n",
    "  \n",
    "  return a"
   ]
  },
  {
   "cell_type": "code",
   "execution_count": 9,
   "id": "c53b325a",
   "metadata": {},
   "outputs": [
    {
     "name": "stdout",
     "output_type": "stream",
     "text": [
      "seconds elapsed 0.46\n",
      "size 2048 iterations 4017181 O(N) 1.99 NlogN 22528 N^2 4194304\n"
     ]
    }
   ],
   "source": [
    "sorted_a = runit(bubble_sort_optimised)\n",
    "# So not really need to optimise such naive algorithms, but better think of more clever solutions!"
   ]
  },
  {
   "cell_type": "code",
   "execution_count": null,
   "id": "dcdba739",
   "metadata": {},
   "outputs": [],
   "source": []
  },
  {
   "cell_type": "code",
   "execution_count": 10,
   "id": "64473c93",
   "metadata": {},
   "outputs": [],
   "source": [
    "def selection_sort(a):\n",
    "  global k\n",
    "\n",
    "  for i in range(0, len(a) - 1):\n",
    "    min_element_idx = i\n",
    "    for j in range(i + 1, len(a)):\n",
    "      k += 1\n",
    "      if a[min_element_idx] > a[j]:\n",
    "        min_element_idx = j\n",
    "    swap(a, i, min_element_idx)\n",
    "  \n",
    "  return a"
   ]
  },
  {
   "cell_type": "code",
   "execution_count": 11,
   "id": "0653340c",
   "metadata": {},
   "outputs": [
    {
     "name": "stdout",
     "output_type": "stream",
     "text": [
      "seconds elapsed 0.15\n",
      "size 2048 iterations 2096129 O(N) 1.91 NlogN 22528 N^2 4194304\n"
     ]
    }
   ],
   "source": [
    "sorted_a = runit(selection_sort)"
   ]
  },
  {
   "cell_type": "code",
   "execution_count": null,
   "id": "8c30e5d2",
   "metadata": {},
   "outputs": [],
   "source": []
  },
  {
   "cell_type": "code",
   "execution_count": 12,
   "id": "664777ad",
   "metadata": {},
   "outputs": [],
   "source": [
    "def insert_sort(a):\n",
    "  global k\n",
    "  \n",
    "  if len(a) <= 1:\n",
    "    return a\n",
    "  \n",
    "  sorted_a = [a[0]]\n",
    "  \n",
    "  for i in range(1, len(a)):\n",
    "    for j in range(0, len(sorted_a)):\n",
    "      k += 1\n",
    "      if sorted_a[j] > a[i]:\n",
    "        break\n",
    "    sorted_a.insert(j, a[i])\n",
    "        \n",
    "  return sorted_a"
   ]
  },
  {
   "cell_type": "code",
   "execution_count": 13,
   "id": "945f77c7",
   "metadata": {},
   "outputs": [
    {
     "name": "stdout",
     "output_type": "stream",
     "text": [
      "seconds elapsed 0.07\n",
      "size 2048 iterations 1045876 O(N) 1.82 NlogN 22528 N^2 4194304\n"
     ]
    }
   ],
   "source": [
    "sorted_a = runit(insert_sort)"
   ]
  },
  {
   "cell_type": "code",
   "execution_count": 14,
   "id": "15f0b06f",
   "metadata": {},
   "outputs": [],
   "source": [
    "# sorted_a"
   ]
  },
  {
   "cell_type": "code",
   "execution_count": null,
   "id": "1bd001c9",
   "metadata": {},
   "outputs": [],
   "source": []
  },
  {
   "cell_type": "markdown",
   "id": "6d618296",
   "metadata": {},
   "source": [
    "## smarter sorting algos"
   ]
  },
  {
   "cell_type": "markdown",
   "id": "656dffbd",
   "metadata": {},
   "source": [
    "### Merge Sort"
   ]
  },
  {
   "cell_type": "code",
   "execution_count": 15,
   "id": "2bbb4f50",
   "metadata": {},
   "outputs": [],
   "source": [
    "# def append_element(a_to, a_from, i):\n",
    "#   global k\n",
    "#   a_to.append(a_from[i])\n",
    "#   return i + 1\n",
    "\n",
    "def merge_2_sorted_arrays(a1, a2):\n",
    "  global k\n",
    "  a = []\n",
    "  i1 = 0\n",
    "  i2 = 0\n",
    "  \n",
    "  while(i1 < len(a1) and i2 < len(a2)):\n",
    "    if a1[i1] < a2[i2]:\n",
    "      a.append(a1[i1])\n",
    "      i1 += 1\n",
    "    else:\n",
    "      a.append(a2[i2])\n",
    "      i2 += 1\n",
    "    k += 1\n",
    "      \n",
    "  while(i1 < len(a1)):\n",
    "    a.append(a1[i1])\n",
    "    i1 += 1\n",
    "    k += 1\n",
    "  while(i2 < len(a2)):\n",
    "    a.append(a2[i2])\n",
    "    i2 += 1\n",
    "    k += 1\n",
    "\n",
    "  return a"
   ]
  },
  {
   "cell_type": "code",
   "execution_count": 16,
   "id": "2d06cd04",
   "metadata": {},
   "outputs": [],
   "source": [
    "def merge_sort(a):\n",
    "  if len(a) <= 1:\n",
    "    return a\n",
    "  \n",
    "  l = int(len(a) / 2) # Split array in 2 halves\n",
    "  a1 = a[:l]\n",
    "  a2 = a[l:]\n",
    "  \n",
    "  sorted_a1 = merge_sort(a1)\n",
    "  sorted_a2 = merge_sort(a2)\n",
    "  \n",
    "  sorted_a = merge_2_sorted_arrays(sorted_a1, sorted_a2)\n",
    "  return sorted_a"
   ]
  },
  {
   "cell_type": "code",
   "execution_count": 17,
   "id": "be411971",
   "metadata": {},
   "outputs": [
    {
     "name": "stdout",
     "output_type": "stream",
     "text": [
      "seconds elapsed 0.00\n",
      "size 2048 iterations 22529 O(N) 1.31 NlogN 22528 N^2 4194304\n"
     ]
    }
   ],
   "source": [
    "sorted_a = runit(merge_sort)"
   ]
  },
  {
   "cell_type": "code",
   "execution_count": null,
   "id": "adc97e62",
   "metadata": {},
   "outputs": [],
   "source": []
  },
  {
   "cell_type": "markdown",
   "id": "e95ddd0e",
   "metadata": {},
   "source": [
    "### Quick Sort"
   ]
  },
  {
   "cell_type": "code",
   "execution_count": 18,
   "id": "0ec311d8",
   "metadata": {},
   "outputs": [],
   "source": [
    "def quick_sort(a):\n",
    "  global k\n",
    "\n",
    "  if len(a) <= 4:\n",
    "    return insert_sort(a)\n",
    "  \n",
    "  r = a[random.randint(0, len(a) - 1)]\n",
    "\n",
    "  a1 = []\n",
    "  a2 = []\n",
    "  \n",
    "  for i in range(0, len(a)):\n",
    "    k += 1\n",
    "    if a[i] <= r:\n",
    "      a1.append(a[i])\n",
    "    else:\n",
    "      a2.append(a[i])\n",
    "\n",
    "  if len(a1) == 0 or len(a2) == 0:\n",
    "    return insert_sort(a)\n",
    "\n",
    "  sorted_a1 = quick_sort(a1)\n",
    "  sorted_a2 = quick_sort(a2)\n",
    "  \n",
    "  sorted_a = sorted_a1 + sorted_a2\n",
    "  return sorted_a"
   ]
  },
  {
   "cell_type": "code",
   "execution_count": 19,
   "id": "b4a813e0",
   "metadata": {},
   "outputs": [
    {
     "name": "stdout",
     "output_type": "stream",
     "text": [
      "seconds elapsed 0.00\n",
      "size 2048 iterations 37797 O(N) 1.38 NlogN 22528 N^2 4194304\n"
     ]
    }
   ],
   "source": [
    "sorted_a = runit(quick_sort)"
   ]
  },
  {
   "cell_type": "code",
   "execution_count": null,
   "id": "787e5290",
   "metadata": {},
   "outputs": [],
   "source": []
  },
  {
   "cell_type": "markdown",
   "id": "11dc4053",
   "metadata": {},
   "source": [
    "### Heap Sort"
   ]
  },
  {
   "cell_type": "code",
   "execution_count": 20,
   "id": "254e87e1",
   "metadata": {},
   "outputs": [],
   "source": [
    "def heapify(a, root_node, end_node):\n",
    "  global k; k += 1\n",
    "\n",
    "  largest_node = root_node\n",
    "  left_node = 2 * root_node + 1\n",
    "  right_node = 2 * root_node + 2\n",
    "\n",
    "  if left_node < end_node and a[root_node] < a[left_node]:\n",
    "    largest_node = left_node\n",
    "\n",
    "  if right_node < end_node and a[largest_node] < a[right_node]:\n",
    "    largest_node = right_node\n",
    "\n",
    "  if largest_node != root_node:\n",
    "    swap(a, root_node, largest_node)\n",
    "    heapify(a, largest_node, end_node)\n",
    "\n",
    "def heap_sort(a):\n",
    "  for i in range(len(a) // 2 - 1, -1, -1):\n",
    "    heapify(a, i, len(a))\n",
    "\n",
    "  for i in range(len(a) - 1, 0, -1):\n",
    "    swap(a, 0, i)\n",
    "    heapify(a, 0, i)\n",
    "  \n",
    "  return a\n"
   ]
  },
  {
   "cell_type": "code",
   "execution_count": 21,
   "id": "d972fc9d",
   "metadata": {},
   "outputs": [
    {
     "name": "stdout",
     "output_type": "stream",
     "text": [
      "seconds elapsed 0.01\n",
      "size 2048 iterations 21700 O(N) 1.31 NlogN 22528 N^2 4194304\n"
     ]
    }
   ],
   "source": [
    "sorted_a = runit(heap_sort)"
   ]
  },
  {
   "cell_type": "code",
   "execution_count": null,
   "id": "5be4a7d9",
   "metadata": {},
   "outputs": [],
   "source": []
  },
  {
   "cell_type": "code",
   "execution_count": null,
   "id": "4da85fef",
   "metadata": {},
   "outputs": [],
   "source": []
  },
  {
   "cell_type": "code",
   "execution_count": null,
   "id": "48bea85f",
   "metadata": {},
   "outputs": [],
   "source": []
  },
  {
   "cell_type": "code",
   "execution_count": 22,
   "id": "3d33d5e5",
   "metadata": {},
   "outputs": [],
   "source": [
    "# sorted_a = runit(bubble_sort, sorted_a)"
   ]
  },
  {
   "cell_type": "code",
   "execution_count": 23,
   "id": "12b23b56",
   "metadata": {},
   "outputs": [],
   "source": [
    "# sorted_a"
   ]
  },
  {
   "cell_type": "code",
   "execution_count": 24,
   "id": "61b5fb94",
   "metadata": {},
   "outputs": [],
   "source": [
    "# a"
   ]
  },
  {
   "cell_type": "code",
   "execution_count": null,
   "id": "d89d4bd7",
   "metadata": {},
   "outputs": [],
   "source": []
  }
 ],
 "metadata": {
  "kernelspec": {
   "display_name": "Python 3 (ipykernel)",
   "language": "python",
   "name": "python3"
  },
  "language_info": {
   "codemirror_mode": {
    "name": "ipython",
    "version": 3
   },
   "file_extension": ".py",
   "mimetype": "text/x-python",
   "name": "python",
   "nbconvert_exporter": "python",
   "pygments_lexer": "ipython3",
   "version": "3.9.12"
  }
 },
 "nbformat": 4,
 "nbformat_minor": 5
}
