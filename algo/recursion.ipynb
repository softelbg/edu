{
 "cells": [
  {
   "cell_type": "code",
   "execution_count": 1,
   "id": "1b4c8f69",
   "metadata": {},
   "outputs": [],
   "source": [
    "import random\n",
    "import math"
   ]
  },
  {
   "cell_type": "markdown",
   "id": "ae26b711",
   "metadata": {},
   "source": [
    "# Recursion tutorial"
   ]
  },
  {
   "cell_type": "code",
   "execution_count": 2,
   "id": "1e54bb13",
   "metadata": {},
   "outputs": [
    {
     "data": {
      "text/plain": [
       "'\\nDivide and Conquer\\n\\nDivide a big task into smaller similar tasks. Run these smaller tasks via recursion.\\n\\n'"
      ]
     },
     "execution_count": 2,
     "metadata": {},
     "output_type": "execute_result"
    }
   ],
   "source": [
    "\"\"\"\n",
    "Divide and Conquer\n",
    "\n",
    "Divide a big task into smaller similar tasks. Run these smaller tasks via recursion.\n",
    "\n",
    "\"\"\""
   ]
  },
  {
   "cell_type": "markdown",
   "id": "2787d223",
   "metadata": {},
   "source": [
    "### Fibonachi and Factoriel"
   ]
  },
  {
   "cell_type": "code",
   "execution_count": 3,
   "id": "525d3f64",
   "metadata": {},
   "outputs": [],
   "source": [
    "k = 1 # Iterations counter for algo time complexity examination"
   ]
  },
  {
   "cell_type": "code",
   "execution_count": 4,
   "id": "abbc5a18",
   "metadata": {},
   "outputs": [],
   "source": [
    "def factoriel(n):\n",
    "  global k; k += 1\n",
    "\n",
    "  if n <= 2:\n",
    "    return n\n",
    "\n",
    "  return factoriel(n - 1) * n"
   ]
  },
  {
   "cell_type": "code",
   "execution_count": 5,
   "id": "ebfa3634",
   "metadata": {},
   "outputs": [
    {
     "name": "stdout",
     "output_type": "stream",
     "text": [
      "result 3628800 iterations 9\n"
     ]
    }
   ],
   "source": [
    "k = 0\n",
    "print(\"result\", factoriel(10), \"iterations\", k)"
   ]
  },
  {
   "cell_type": "code",
   "execution_count": null,
   "id": "3c3023ee",
   "metadata": {},
   "outputs": [],
   "source": []
  },
  {
   "cell_type": "code",
   "execution_count": 6,
   "id": "0a1aeb19",
   "metadata": {},
   "outputs": [],
   "source": [
    "def fibonacchi(n):\n",
    "  global k; k += 1\n",
    "\n",
    "  if n <= 3:\n",
    "    return n\n",
    "\n",
    "#   print(\"F\", n, \"=>\", n - 1, n - 2)\n",
    "  return fibonacchi(n - 1) + fibonacchi(n - 2)"
   ]
  },
  {
   "cell_type": "code",
   "execution_count": 7,
   "id": "3c805563",
   "metadata": {},
   "outputs": [
    {
     "name": "stdout",
     "output_type": "stream",
     "text": [
      "result 75025 iterations 57313\n"
     ]
    }
   ],
   "source": [
    "k = 0\n",
    "print(\"result\", fibonacchi(24), \"iterations\", k)"
   ]
  },
  {
   "cell_type": "markdown",
   "id": "2e5960a2",
   "metadata": {},
   "source": [
    "### Memoisation"
   ]
  },
  {
   "cell_type": "code",
   "execution_count": 8,
   "id": "94c40eed",
   "metadata": {},
   "outputs": [],
   "source": [
    "d = {} # Memory"
   ]
  },
  {
   "cell_type": "code",
   "execution_count": 9,
   "id": "e337ed41",
   "metadata": {},
   "outputs": [],
   "source": [
    "def fibonachi(n):\n",
    "  global d; global k; k += 1\n",
    "\n",
    "  if n <= 3:\n",
    "    return n\n",
    "  \n",
    "  if n in d:\n",
    "    return d[n]\n",
    "\n",
    "  result = fibonachi(n - 1) + fibonachi(n - 2)\n",
    "  d[n] = result\n",
    "  return result"
   ]
  },
  {
   "cell_type": "code",
   "execution_count": 10,
   "id": "4f38c572",
   "metadata": {},
   "outputs": [
    {
     "name": "stdout",
     "output_type": "stream",
     "text": [
      "result 75025 iterations 43 memory 21\n"
     ]
    }
   ],
   "source": [
    "k = 0\n",
    "d = {}\n",
    "print(\"result\", fibonachi(24), \"iterations\", k, \"memory\", len(d))"
   ]
  },
  {
   "cell_type": "code",
   "execution_count": null,
   "id": "46faccf0",
   "metadata": {},
   "outputs": [],
   "source": []
  },
  {
   "cell_type": "markdown",
   "id": "6374afdc",
   "metadata": {},
   "source": [
    "## Sorting algos"
   ]
  },
  {
   "cell_type": "markdown",
   "id": "1f1cec54",
   "metadata": {},
   "source": [
    "### Merge Sort"
   ]
  },
  {
   "cell_type": "code",
   "execution_count": 11,
   "id": "2f6b0208",
   "metadata": {},
   "outputs": [],
   "source": [
    "def merge_2_sorted_arrays(a1, a2):\n",
    "  global k\n",
    "  a = []\n",
    "  i1 = 0\n",
    "  i2 = 0\n",
    "  \n",
    "  while(i1 < len(a1) and i2 < len(a2)):\n",
    "    if a1[i1] < a2[i2]:\n",
    "      a.append(a1[i1])\n",
    "      i1 += 1\n",
    "    else:\n",
    "      a.append(a2[i2])\n",
    "      i2 += 1\n",
    "    k += 1\n",
    "      \n",
    "  while(i1 < len(a1)):\n",
    "    a.append(a1[i1])\n",
    "    i1 += 1\n",
    "    k += 1\n",
    "  while(i2 < len(a2)):\n",
    "    a.append(a2[i2])\n",
    "    i2 += 1\n",
    "    k += 1\n",
    "\n",
    "  return a"
   ]
  },
  {
   "cell_type": "code",
   "execution_count": 12,
   "id": "519d1a35",
   "metadata": {},
   "outputs": [],
   "source": [
    "def merge_sort(a):\n",
    "  if len(a) <= 1:\n",
    "    return a\n",
    "  \n",
    "  l = int(len(a) / 2) # Split array in 2 halves\n",
    "  a1 = a[:l]\n",
    "  a2 = a[l:]\n",
    "  \n",
    "  sorted_a1 = merge_sort(a1)\n",
    "  sorted_a2 = merge_sort(a2)\n",
    "  \n",
    "  sorted_a = merge_2_sorted_arrays(sorted_a1, sorted_a2)\n",
    "  return sorted_a"
   ]
  },
  {
   "cell_type": "code",
   "execution_count": 13,
   "id": "a2ede67f",
   "metadata": {},
   "outputs": [],
   "source": [
    "a = [random.randint(0, 10000) for _ in range(256)]"
   ]
  },
  {
   "cell_type": "code",
   "execution_count": 14,
   "id": "eac0bc63",
   "metadata": {},
   "outputs": [],
   "source": [
    "k = 0"
   ]
  },
  {
   "cell_type": "code",
   "execution_count": 15,
   "id": "72787024",
   "metadata": {},
   "outputs": [],
   "source": [
    "sorted_a = merge_sort(a)"
   ]
  },
  {
   "cell_type": "code",
   "execution_count": 16,
   "id": "74f56e99",
   "metadata": {},
   "outputs": [
    {
     "name": "stdout",
     "output_type": "stream",
     "text": [
      "size 256 iterations 2048 NlogN 2048\n"
     ]
    }
   ],
   "source": [
    "print(\"size\", len(a), \"iterations\", k, \"NlogN\", int(len(a) * math.log2(len(a))))"
   ]
  },
  {
   "cell_type": "code",
   "execution_count": null,
   "id": "974c74d1",
   "metadata": {},
   "outputs": [],
   "source": []
  },
  {
   "cell_type": "code",
   "execution_count": null,
   "id": "85dd6b45",
   "metadata": {},
   "outputs": [],
   "source": []
  }
 ],
 "metadata": {
  "kernelspec": {
   "display_name": "Python 3 (ipykernel)",
   "language": "python",
   "name": "python3"
  },
  "language_info": {
   "codemirror_mode": {
    "name": "ipython",
    "version": 3
   },
   "file_extension": ".py",
   "mimetype": "text/x-python",
   "name": "python",
   "nbconvert_exporter": "python",
   "pygments_lexer": "ipython3",
   "version": "3.9.12"
  }
 },
 "nbformat": 4,
 "nbformat_minor": 5
}
