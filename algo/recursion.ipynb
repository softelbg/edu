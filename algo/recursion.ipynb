{
 "cells": [
  {
   "cell_type": "code",
   "execution_count": 1,
   "id": "1c7416c8",
   "metadata": {},
   "outputs": [],
   "source": [
    "import random\n",
    "import math\n",
    "import time\n",
    "\n",
    "from sciveo.tools.complexity import ComplexityEval"
   ]
  },
  {
   "cell_type": "markdown",
   "id": "8233e1cb",
   "metadata": {},
   "source": [
    "# Recursion tutorial"
   ]
  },
  {
   "cell_type": "code",
   "execution_count": 2,
   "id": "09e4463f",
   "metadata": {},
   "outputs": [
    {
     "data": {
      "text/plain": [
       "'\\nDivide and Conquer\\n\\nDivide a big task into smaller similar tasks. Run these smaller tasks via recursion.\\n\\n'"
      ]
     },
     "execution_count": 2,
     "metadata": {},
     "output_type": "execute_result"
    }
   ],
   "source": [
    "\"\"\"\n",
    "Divide and Conquer\n",
    "\n",
    "Divide a big task into smaller similar tasks. Run these smaller tasks via recursion.\n",
    "\n",
    "\"\"\""
   ]
  },
  {
   "cell_type": "code",
   "execution_count": 3,
   "id": "49aa19fc",
   "metadata": {},
   "outputs": [],
   "source": [
    "k = 1 # Iterations counter for algo time complexity examination"
   ]
  },
  {
   "cell_type": "code",
   "execution_count": 4,
   "id": "62b41f2d",
   "metadata": {},
   "outputs": [],
   "source": [
    "def print_complexity(a, k):\n",
    "  ComplexityEval(a).print(k)"
   ]
  },
  {
   "cell_type": "code",
   "execution_count": 5,
   "id": "01cffa97",
   "metadata": {},
   "outputs": [],
   "source": [
    "def print_run(tag, result, k, *args):\n",
    "  print(tag, result, \"iterations\", k, *args)"
   ]
  },
  {
   "cell_type": "code",
   "execution_count": 6,
   "id": "d8c51da2",
   "metadata": {},
   "outputs": [],
   "source": [
    "def runit(fn, current_list=None, *args):\n",
    "  global a\n",
    "  global k\n",
    "  \n",
    "  if current_list is None:\n",
    "    current_list = a\n",
    "\n",
    "  k = 0\n",
    "  t1 = time.time()\n",
    "  result = fn(current_list.copy(), *args)\n",
    "  elapsed = time.time() - t1\n",
    "  print(f\"seconds elapsed {elapsed:.2f}\")\n",
    "  print_complexity(current_list, k)\n",
    "  return result"
   ]
  },
  {
   "cell_type": "markdown",
   "id": "59c791e8",
   "metadata": {},
   "source": [
    "### Fibonachi and Factoriel"
   ]
  },
  {
   "cell_type": "code",
   "execution_count": 7,
   "id": "00de412d",
   "metadata": {},
   "outputs": [],
   "source": [
    "def factoriel(n):\n",
    "  global k; k += 1\n",
    "\n",
    "  if n <= 2:\n",
    "    return n\n",
    "\n",
    "  return factoriel(n - 1) * n"
   ]
  },
  {
   "cell_type": "code",
   "execution_count": 8,
   "id": "acf82aae",
   "metadata": {},
   "outputs": [
    {
     "name": "stdout",
     "output_type": "stream",
     "text": [
      "factoriel 2432902008176640000 iterations 19\n"
     ]
    }
   ],
   "source": [
    "k = 0\n",
    "print_run(\"factoriel\", factoriel(20), k)"
   ]
  },
  {
   "cell_type": "code",
   "execution_count": null,
   "id": "336585de",
   "metadata": {},
   "outputs": [],
   "source": []
  },
  {
   "cell_type": "code",
   "execution_count": 9,
   "id": "4ac5d922",
   "metadata": {},
   "outputs": [],
   "source": [
    "def fibonacchi(n):\n",
    "  global k; k += 1\n",
    "\n",
    "  if n <= 3:\n",
    "    return n\n",
    "\n",
    "#   print(\"F\", n, \"=>\", n - 1, n - 2)\n",
    "  return fibonacchi(n - 1) + fibonacchi(n - 2)"
   ]
  },
  {
   "cell_type": "code",
   "execution_count": 10,
   "id": "704d56a2",
   "metadata": {},
   "outputs": [
    {
     "name": "stdout",
     "output_type": "stream",
     "text": [
      "fibonacchi 75025 iterations 57313\n"
     ]
    }
   ],
   "source": [
    "k = 0\n",
    "print_run(\"fibonacchi\", fibonacchi(24), k)"
   ]
  },
  {
   "cell_type": "markdown",
   "id": "27144dd4",
   "metadata": {},
   "source": [
    "### Memoisation"
   ]
  },
  {
   "cell_type": "code",
   "execution_count": 11,
   "id": "eab965ae",
   "metadata": {},
   "outputs": [],
   "source": [
    "d = {} # Memory"
   ]
  },
  {
   "cell_type": "code",
   "execution_count": 12,
   "id": "5abf29ca",
   "metadata": {},
   "outputs": [],
   "source": [
    "def fibonacchi(n):\n",
    "  global d; global k; k += 1\n",
    "\n",
    "  if n <= 3:\n",
    "    return n\n",
    "  \n",
    "  if n in d:\n",
    "    return d[n]\n",
    "\n",
    "  result = fibonacchi(n - 1) + fibonacchi(n - 2)\n",
    "  d[n] = result\n",
    "  return result"
   ]
  },
  {
   "cell_type": "code",
   "execution_count": 13,
   "id": "68592594",
   "metadata": {},
   "outputs": [
    {
     "name": "stdout",
     "output_type": "stream",
     "text": [
      "fibonacchi 75025 iterations 43 memory 21\n"
     ]
    }
   ],
   "source": [
    "k = 0\n",
    "d = {}\n",
    "print_run(\"fibonacchi\", fibonacchi(24), k, \"memory\", len(d))"
   ]
  },
  {
   "cell_type": "code",
   "execution_count": null,
   "id": "8c59dbd8",
   "metadata": {},
   "outputs": [],
   "source": []
  },
  {
   "cell_type": "markdown",
   "id": "9b8d4552",
   "metadata": {},
   "source": [
    "## Sorting algos"
   ]
  },
  {
   "cell_type": "markdown",
   "id": "d3abf7da",
   "metadata": {},
   "source": [
    "### Merge Sort"
   ]
  },
  {
   "cell_type": "code",
   "execution_count": 14,
   "id": "40e1f7be",
   "metadata": {},
   "outputs": [],
   "source": [
    "def merge_2_sorted_arrays(a1, a2):\n",
    "  global k\n",
    "  a = []\n",
    "  i1 = 0\n",
    "  i2 = 0\n",
    "  \n",
    "  while(i1 < len(a1) and i2 < len(a2)):\n",
    "    if a1[i1] < a2[i2]:\n",
    "      a.append(a1[i1])\n",
    "      i1 += 1\n",
    "    else:\n",
    "      a.append(a2[i2])\n",
    "      i2 += 1\n",
    "    k += 1\n",
    "      \n",
    "  while(i1 < len(a1)):\n",
    "    a.append(a1[i1])\n",
    "    i1 += 1\n",
    "    k += 1\n",
    "  while(i2 < len(a2)):\n",
    "    a.append(a2[i2])\n",
    "    i2 += 1\n",
    "    k += 1\n",
    "\n",
    "  return a"
   ]
  },
  {
   "cell_type": "code",
   "execution_count": 15,
   "id": "5f9eb608",
   "metadata": {},
   "outputs": [],
   "source": [
    "def merge_sort(a):\n",
    "  if len(a) <= 1:\n",
    "    return a\n",
    "  \n",
    "  l = int(len(a) / 2) # Split array in 2 halves\n",
    "  a1 = a[:l]\n",
    "  a2 = a[l:]\n",
    "  \n",
    "  sorted_a1 = merge_sort(a1)\n",
    "  sorted_a2 = merge_sort(a2)\n",
    "  \n",
    "  sorted_a = merge_2_sorted_arrays(sorted_a1, sorted_a2)\n",
    "  return sorted_a"
   ]
  },
  {
   "cell_type": "code",
   "execution_count": 16,
   "id": "3855f0d9",
   "metadata": {},
   "outputs": [],
   "source": [
    "a = [random.randint(0, 10000) for _ in range(8192)]"
   ]
  },
  {
   "cell_type": "code",
   "execution_count": 17,
   "id": "b12aaedd",
   "metadata": {},
   "outputs": [
    {
     "name": "stdout",
     "output_type": "stream",
     "text": [
      "seconds elapsed 0.04\n",
      "size 8192 iterations 106496 (N^1.28)(106496) [logN=13.0 N=8192 NlogN=106496 N^2=67108864 N^3=549755813888]\n",
      "O(N) = NlogN\n"
     ]
    }
   ],
   "source": [
    "sorted_a = runit(merge_sort)"
   ]
  },
  {
   "cell_type": "code",
   "execution_count": null,
   "id": "662d083a",
   "metadata": {},
   "outputs": [],
   "source": []
  },
  {
   "cell_type": "markdown",
   "id": "8af2d03f",
   "metadata": {},
   "source": [
    "## Binary Search"
   ]
  },
  {
   "cell_type": "markdown",
   "id": "d0292de9",
   "metadata": {},
   "source": [
    "### Searching for element in a sorted list"
   ]
  },
  {
   "cell_type": "code",
   "execution_count": 18,
   "id": "bfbd7a12",
   "metadata": {},
   "outputs": [],
   "source": [
    "# Search for element value: e in a sorted list: a\n",
    "def binary_search(a, e):\n",
    "  global k\n",
    "  # Bottom of recursion when no more elements\n",
    "  if len(a) == 0:\n",
    "    return -1\n",
    "\n",
    "  middle_index = int(len(a) / 2)\n",
    "  k += 1\n",
    "  \n",
    "  if a[middle_index] == e: # If found element in the middle, return and stop recursion.\n",
    "    return middle_index\n",
    "  # Check element less or more than the middle element and continue recursion with the respective half of the list.\n",
    "  elif a[middle_index] > e:\n",
    "    return binary_search(a[:middle_index], e) # \n",
    "  else:\n",
    "    return binary_search(a[(middle_index + 1):], e)"
   ]
  },
  {
   "cell_type": "code",
   "execution_count": 19,
   "id": "b14d37e5",
   "metadata": {},
   "outputs": [],
   "source": [
    "# A function which will check if sorted list: a has element with value: e\n",
    "def has(a, e):\n",
    "  return binary_search(a, e) >= 0"
   ]
  },
  {
   "cell_type": "code",
   "execution_count": 20,
   "id": "3efc2490",
   "metadata": {},
   "outputs": [
    {
     "data": {
      "text/plain": [
       "False"
      ]
     },
     "execution_count": 20,
     "metadata": {},
     "output_type": "execute_result"
    }
   ],
   "source": [
    "has(sorted_a, 5832)"
   ]
  },
  {
   "cell_type": "code",
   "execution_count": 21,
   "id": "09ea880a",
   "metadata": {},
   "outputs": [
    {
     "name": "stdout",
     "output_type": "stream",
     "text": [
      "size 8192 iterations 106509 (N^1.28)(106496) [logN=13.0 N=8192 NlogN=106496 N^2=67108864 N^3=549755813888]\n",
      "O(N) = NlogN\n"
     ]
    }
   ],
   "source": [
    "print_complexity(sorted_a, k)"
   ]
  },
  {
   "cell_type": "code",
   "execution_count": 22,
   "id": "5d0fad51",
   "metadata": {},
   "outputs": [
    {
     "name": "stdout",
     "output_type": "stream",
     "text": [
      "seconds elapsed 0.00\n",
      "size 8192 iterations 13 (N^0.28)(13.0) [logN=13.0 N=8192 NlogN=106496 N^2=67108864 N^3=549755813888]\n",
      "O(N) = logN\n"
     ]
    },
    {
     "data": {
      "text/plain": [
       "False"
      ]
     },
     "execution_count": 22,
     "metadata": {},
     "output_type": "execute_result"
    }
   ],
   "source": [
    "runit(has, sorted_a, 5832)"
   ]
  },
  {
   "cell_type": "code",
   "execution_count": null,
   "id": "f1414a9d",
   "metadata": {},
   "outputs": [],
   "source": []
  }
 ],
 "metadata": {
  "kernelspec": {
   "display_name": "Python 3 (ipykernel)",
   "language": "python",
   "name": "python3"
  },
  "language_info": {
   "codemirror_mode": {
    "name": "ipython",
    "version": 3
   },
   "file_extension": ".py",
   "mimetype": "text/x-python",
   "name": "python",
   "nbconvert_exporter": "python",
   "pygments_lexer": "ipython3",
   "version": "3.9.12"
  }
 },
 "nbformat": 4,
 "nbformat_minor": 5
}
