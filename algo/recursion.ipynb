{
 "cells": [
  {
   "cell_type": "code",
   "execution_count": 1,
   "id": "451234a5",
   "metadata": {},
   "outputs": [],
   "source": [
    "import random\n",
    "import math"
   ]
  },
  {
   "cell_type": "markdown",
   "id": "cf14fef4",
   "metadata": {},
   "source": [
    "# Recursion tutorial"
   ]
  },
  {
   "cell_type": "code",
   "execution_count": 2,
   "id": "07967ceb",
   "metadata": {},
   "outputs": [
    {
     "data": {
      "text/plain": [
       "'\\nDivide and Conquer\\n\\nDivide a big task into smaller similar tasks. Run these smaller tasks via recursion.\\n\\n'"
      ]
     },
     "execution_count": 2,
     "metadata": {},
     "output_type": "execute_result"
    }
   ],
   "source": [
    "\"\"\"\n",
    "Divide and Conquer\n",
    "\n",
    "Divide a big task into smaller similar tasks. Run these smaller tasks via recursion.\n",
    "\n",
    "\"\"\""
   ]
  },
  {
   "cell_type": "code",
   "execution_count": 3,
   "id": "313c1633",
   "metadata": {},
   "outputs": [],
   "source": [
    "k = 1 # Iterations counter for algo time complexity examination"
   ]
  },
  {
   "cell_type": "code",
   "execution_count": 4,
   "id": "56c1ffe8",
   "metadata": {},
   "outputs": [],
   "source": [
    "def print_complexity(a, k):\n",
    "  print(\"size\", len(a), \"iterations\", k, \"O(N)\", f\"{(math.log(k) / math.log(len(a))):.2f}\", \"NlogN\", int(len(a) * math.log2(len(a))), \"N^2\", len(a) * len(a))\n",
    "\n",
    "def print_run(tag, result, k, *args):\n",
    "  print(tag, result, \"iterations\", k, *args)"
   ]
  },
  {
   "cell_type": "markdown",
   "id": "99c37d54",
   "metadata": {},
   "source": [
    "### Fibonachi and Factoriel"
   ]
  },
  {
   "cell_type": "code",
   "execution_count": 5,
   "id": "adc72e7e",
   "metadata": {},
   "outputs": [],
   "source": [
    "def factoriel(n):\n",
    "  global k; k += 1\n",
    "\n",
    "  if n <= 2:\n",
    "    return n\n",
    "\n",
    "  return factoriel(n - 1) * n"
   ]
  },
  {
   "cell_type": "code",
   "execution_count": 6,
   "id": "e6f655c8",
   "metadata": {},
   "outputs": [
    {
     "name": "stdout",
     "output_type": "stream",
     "text": [
      "factoriel 2432902008176640000 iterations 19\n"
     ]
    }
   ],
   "source": [
    "k = 0\n",
    "print_run(\"factoriel\", factoriel(20), k)"
   ]
  },
  {
   "cell_type": "code",
   "execution_count": null,
   "id": "420759b1",
   "metadata": {},
   "outputs": [],
   "source": []
  },
  {
   "cell_type": "code",
   "execution_count": 7,
   "id": "8a87f53e",
   "metadata": {},
   "outputs": [],
   "source": [
    "def fibonacchi(n):\n",
    "  global k; k += 1\n",
    "\n",
    "  if n <= 3:\n",
    "    return n\n",
    "\n",
    "#   print(\"F\", n, \"=>\", n - 1, n - 2)\n",
    "  return fibonacchi(n - 1) + fibonacchi(n - 2)"
   ]
  },
  {
   "cell_type": "code",
   "execution_count": 8,
   "id": "c3c5fa82",
   "metadata": {},
   "outputs": [
    {
     "name": "stdout",
     "output_type": "stream",
     "text": [
      "fibonacchi 75025 iterations 57313\n"
     ]
    }
   ],
   "source": [
    "k = 0\n",
    "print_run(\"fibonacchi\", fibonacchi(24), k)"
   ]
  },
  {
   "cell_type": "markdown",
   "id": "efa419f7",
   "metadata": {},
   "source": [
    "### Memoisation"
   ]
  },
  {
   "cell_type": "code",
   "execution_count": 9,
   "id": "616d476c",
   "metadata": {},
   "outputs": [],
   "source": [
    "d = {} # Memory"
   ]
  },
  {
   "cell_type": "code",
   "execution_count": 10,
   "id": "db7813c0",
   "metadata": {},
   "outputs": [],
   "source": [
    "def fibonacchi(n):\n",
    "  global d; global k; k += 1\n",
    "\n",
    "  if n <= 3:\n",
    "    return n\n",
    "  \n",
    "  if n in d:\n",
    "    return d[n]\n",
    "\n",
    "  result = fibonacchi(n - 1) + fibonacchi(n - 2)\n",
    "  d[n] = result\n",
    "  return result"
   ]
  },
  {
   "cell_type": "code",
   "execution_count": 11,
   "id": "aafc9239",
   "metadata": {},
   "outputs": [
    {
     "ename": "NameError",
     "evalue": "name 'fibonachi' is not defined",
     "output_type": "error",
     "traceback": [
      "\u001b[0;31m---------------------------------------------------------------------------\u001b[0m",
      "\u001b[0;31mNameError\u001b[0m                                 Traceback (most recent call last)",
      "Cell \u001b[0;32mIn [11], line 3\u001b[0m\n\u001b[1;32m      1\u001b[0m k \u001b[38;5;241m=\u001b[39m \u001b[38;5;241m0\u001b[39m\n\u001b[1;32m      2\u001b[0m d \u001b[38;5;241m=\u001b[39m {}\n\u001b[0;32m----> 3\u001b[0m print_run(\u001b[38;5;124m\"\u001b[39m\u001b[38;5;124mfibonacchi\u001b[39m\u001b[38;5;124m\"\u001b[39m, fibonacchi(\u001b[38;5;241m24\u001b[39m), k, \u001b[38;5;124m\"\u001b[39m\u001b[38;5;124mmemory\u001b[39m\u001b[38;5;124m\"\u001b[39m, \u001b[38;5;28mlen\u001b[39m(d))\n",
      "Cell \u001b[0;32mIn [10], line 10\u001b[0m, in \u001b[0;36mfibonacchi\u001b[0;34m(n)\u001b[0m\n\u001b[1;32m      7\u001b[0m \u001b[38;5;28;01mif\u001b[39;00m n \u001b[38;5;129;01min\u001b[39;00m d:\n\u001b[1;32m      8\u001b[0m   \u001b[38;5;28;01mreturn\u001b[39;00m d[n]\n\u001b[0;32m---> 10\u001b[0m result \u001b[38;5;241m=\u001b[39m \u001b[43mfibonachi\u001b[49m(n \u001b[38;5;241m-\u001b[39m \u001b[38;5;241m1\u001b[39m) \u001b[38;5;241m+\u001b[39m fibonachi(n \u001b[38;5;241m-\u001b[39m \u001b[38;5;241m2\u001b[39m)\n\u001b[1;32m     11\u001b[0m d[n] \u001b[38;5;241m=\u001b[39m result\n\u001b[1;32m     12\u001b[0m \u001b[38;5;28;01mreturn\u001b[39;00m result\n",
      "\u001b[0;31mNameError\u001b[0m: name 'fibonachi' is not defined"
     ]
    }
   ],
   "source": [
    "k = 0\n",
    "d = {}\n",
    "print_run(\"fibonacchi\", fibonacchi(24), k, \"memory\", len(d))"
   ]
  },
  {
   "cell_type": "code",
   "execution_count": null,
   "id": "cce29163",
   "metadata": {},
   "outputs": [],
   "source": []
  },
  {
   "cell_type": "markdown",
   "id": "60cb7c7d",
   "metadata": {},
   "source": [
    "## Sorting algos"
   ]
  },
  {
   "cell_type": "markdown",
   "id": "930bfecd",
   "metadata": {},
   "source": [
    "### Merge Sort"
   ]
  },
  {
   "cell_type": "code",
   "execution_count": null,
   "id": "5db2db01",
   "metadata": {},
   "outputs": [],
   "source": [
    "def merge_2_sorted_arrays(a1, a2):\n",
    "  global k\n",
    "  a = []\n",
    "  i1 = 0\n",
    "  i2 = 0\n",
    "  \n",
    "  while(i1 < len(a1) and i2 < len(a2)):\n",
    "    if a1[i1] < a2[i2]:\n",
    "      a.append(a1[i1])\n",
    "      i1 += 1\n",
    "    else:\n",
    "      a.append(a2[i2])\n",
    "      i2 += 1\n",
    "    k += 1\n",
    "      \n",
    "  while(i1 < len(a1)):\n",
    "    a.append(a1[i1])\n",
    "    i1 += 1\n",
    "    k += 1\n",
    "  while(i2 < len(a2)):\n",
    "    a.append(a2[i2])\n",
    "    i2 += 1\n",
    "    k += 1\n",
    "\n",
    "  return a"
   ]
  },
  {
   "cell_type": "code",
   "execution_count": null,
   "id": "73fec07d",
   "metadata": {},
   "outputs": [],
   "source": [
    "def merge_sort(a):\n",
    "  if len(a) <= 1:\n",
    "    return a\n",
    "  \n",
    "  l = int(len(a) / 2) # Split array in 2 halves\n",
    "  a1 = a[:l]\n",
    "  a2 = a[l:]\n",
    "  \n",
    "  sorted_a1 = merge_sort(a1)\n",
    "  sorted_a2 = merge_sort(a2)\n",
    "  \n",
    "  sorted_a = merge_2_sorted_arrays(sorted_a1, sorted_a2)\n",
    "  return sorted_a"
   ]
  },
  {
   "cell_type": "code",
   "execution_count": null,
   "id": "8ddeb9e7",
   "metadata": {},
   "outputs": [],
   "source": [
    "a = [random.randint(0, 10000) for _ in range(256)]"
   ]
  },
  {
   "cell_type": "code",
   "execution_count": null,
   "id": "dd9d8c55",
   "metadata": {},
   "outputs": [],
   "source": [
    "k = 0"
   ]
  },
  {
   "cell_type": "code",
   "execution_count": null,
   "id": "f13a8b78",
   "metadata": {},
   "outputs": [],
   "source": [
    "sorted_a = merge_sort(a)"
   ]
  },
  {
   "cell_type": "code",
   "execution_count": null,
   "id": "29ff6855",
   "metadata": {},
   "outputs": [],
   "source": [
    "print_complexity(a, k)"
   ]
  },
  {
   "cell_type": "code",
   "execution_count": null,
   "id": "fbc45a4f",
   "metadata": {},
   "outputs": [],
   "source": []
  }
 ],
 "metadata": {
  "kernelspec": {
   "display_name": "Python 3 (ipykernel)",
   "language": "python",
   "name": "python3"
  },
  "language_info": {
   "codemirror_mode": {
    "name": "ipython",
    "version": 3
   },
   "file_extension": ".py",
   "mimetype": "text/x-python",
   "name": "python",
   "nbconvert_exporter": "python",
   "pygments_lexer": "ipython3",
   "version": "3.9.12"
  }
 },
 "nbformat": 4,
 "nbformat_minor": 5
}
