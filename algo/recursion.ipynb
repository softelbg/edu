{
 "cells": [
  {
   "cell_type": "code",
   "execution_count": 1,
   "id": "1c7416c8",
   "metadata": {},
   "outputs": [],
   "source": [
    "import random\n",
    "import math"
   ]
  },
  {
   "cell_type": "markdown",
   "id": "8233e1cb",
   "metadata": {},
   "source": [
    "# Recursion tutorial"
   ]
  },
  {
   "cell_type": "code",
   "execution_count": 2,
   "id": "09e4463f",
   "metadata": {},
   "outputs": [
    {
     "data": {
      "text/plain": [
       "'\\nDivide and Conquer\\n\\nDivide a big task into smaller similar tasks. Run these smaller tasks via recursion.\\n\\n'"
      ]
     },
     "execution_count": 2,
     "metadata": {},
     "output_type": "execute_result"
    }
   ],
   "source": [
    "\"\"\"\n",
    "Divide and Conquer\n",
    "\n",
    "Divide a big task into smaller similar tasks. Run these smaller tasks via recursion.\n",
    "\n",
    "\"\"\""
   ]
  },
  {
   "cell_type": "code",
   "execution_count": 3,
   "id": "49aa19fc",
   "metadata": {},
   "outputs": [],
   "source": [
    "k = 1 # Iterations counter for algo time complexity examination"
   ]
  },
  {
   "cell_type": "code",
   "execution_count": 4,
   "id": "01cffa97",
   "metadata": {},
   "outputs": [],
   "source": [
    "def print_complexity(a, k):\n",
    "  print(\"size\", len(a), \"iterations\", k, \"O(N)\", f\"{(math.log(k) / math.log(len(a))):.2f}\", \"NlogN\", int(len(a) * math.log2(len(a))), \"N^2\", len(a) * len(a))\n",
    "\n",
    "def print_run(tag, result, k, *args):\n",
    "  print(tag, result, \"iterations\", k, *args)"
   ]
  },
  {
   "cell_type": "markdown",
   "id": "59c791e8",
   "metadata": {},
   "source": [
    "### Fibonachi and Factoriel"
   ]
  },
  {
   "cell_type": "code",
   "execution_count": 5,
   "id": "00de412d",
   "metadata": {},
   "outputs": [],
   "source": [
    "def factoriel(n):\n",
    "  global k; k += 1\n",
    "\n",
    "  if n <= 2:\n",
    "    return n\n",
    "\n",
    "  return factoriel(n - 1) * n"
   ]
  },
  {
   "cell_type": "code",
   "execution_count": 6,
   "id": "acf82aae",
   "metadata": {},
   "outputs": [
    {
     "name": "stdout",
     "output_type": "stream",
     "text": [
      "factoriel 2432902008176640000 iterations 19\n"
     ]
    }
   ],
   "source": [
    "k = 0\n",
    "print_run(\"factoriel\", factoriel(20), k)"
   ]
  },
  {
   "cell_type": "code",
   "execution_count": null,
   "id": "336585de",
   "metadata": {},
   "outputs": [],
   "source": []
  },
  {
   "cell_type": "code",
   "execution_count": 7,
   "id": "4ac5d922",
   "metadata": {},
   "outputs": [],
   "source": [
    "def fibonacchi(n):\n",
    "  global k; k += 1\n",
    "\n",
    "  if n <= 3:\n",
    "    return n\n",
    "\n",
    "#   print(\"F\", n, \"=>\", n - 1, n - 2)\n",
    "  return fibonacchi(n - 1) + fibonacchi(n - 2)"
   ]
  },
  {
   "cell_type": "code",
   "execution_count": 8,
   "id": "704d56a2",
   "metadata": {},
   "outputs": [
    {
     "name": "stdout",
     "output_type": "stream",
     "text": [
      "fibonacchi 75025 iterations 57313\n"
     ]
    }
   ],
   "source": [
    "k = 0\n",
    "print_run(\"fibonacchi\", fibonacchi(24), k)"
   ]
  },
  {
   "cell_type": "markdown",
   "id": "27144dd4",
   "metadata": {},
   "source": [
    "### Memoisation"
   ]
  },
  {
   "cell_type": "code",
   "execution_count": 9,
   "id": "eab965ae",
   "metadata": {},
   "outputs": [],
   "source": [
    "d = {} # Memory"
   ]
  },
  {
   "cell_type": "code",
   "execution_count": 10,
   "id": "5abf29ca",
   "metadata": {},
   "outputs": [],
   "source": [
    "def fibonacchi(n):\n",
    "  global d; global k; k += 1\n",
    "\n",
    "  if n <= 3:\n",
    "    return n\n",
    "  \n",
    "  if n in d:\n",
    "    return d[n]\n",
    "\n",
    "  result = fibonacchi(n - 1) + fibonacchi(n - 2)\n",
    "  d[n] = result\n",
    "  return result"
   ]
  },
  {
   "cell_type": "code",
   "execution_count": 11,
   "id": "68592594",
   "metadata": {},
   "outputs": [
    {
     "name": "stdout",
     "output_type": "stream",
     "text": [
      "fibonacchi 75025 iterations 43 memory 21\n"
     ]
    }
   ],
   "source": [
    "k = 0\n",
    "d = {}\n",
    "print_run(\"fibonacchi\", fibonacchi(24), k, \"memory\", len(d))"
   ]
  },
  {
   "cell_type": "code",
   "execution_count": null,
   "id": "8c59dbd8",
   "metadata": {},
   "outputs": [],
   "source": []
  },
  {
   "cell_type": "markdown",
   "id": "9b8d4552",
   "metadata": {},
   "source": [
    "## Sorting algos"
   ]
  },
  {
   "cell_type": "markdown",
   "id": "d3abf7da",
   "metadata": {},
   "source": [
    "### Merge Sort"
   ]
  },
  {
   "cell_type": "code",
   "execution_count": 12,
   "id": "40e1f7be",
   "metadata": {},
   "outputs": [],
   "source": [
    "def merge_2_sorted_arrays(a1, a2):\n",
    "  global k\n",
    "  a = []\n",
    "  i1 = 0\n",
    "  i2 = 0\n",
    "  \n",
    "  while(i1 < len(a1) and i2 < len(a2)):\n",
    "    if a1[i1] < a2[i2]:\n",
    "      a.append(a1[i1])\n",
    "      i1 += 1\n",
    "    else:\n",
    "      a.append(a2[i2])\n",
    "      i2 += 1\n",
    "    k += 1\n",
    "      \n",
    "  while(i1 < len(a1)):\n",
    "    a.append(a1[i1])\n",
    "    i1 += 1\n",
    "    k += 1\n",
    "  while(i2 < len(a2)):\n",
    "    a.append(a2[i2])\n",
    "    i2 += 1\n",
    "    k += 1\n",
    "\n",
    "  return a"
   ]
  },
  {
   "cell_type": "code",
   "execution_count": 13,
   "id": "5f9eb608",
   "metadata": {},
   "outputs": [],
   "source": [
    "def merge_sort(a):\n",
    "  if len(a) <= 1:\n",
    "    return a\n",
    "  \n",
    "  l = int(len(a) / 2) # Split array in 2 halves\n",
    "  a1 = a[:l]\n",
    "  a2 = a[l:]\n",
    "  \n",
    "  sorted_a1 = merge_sort(a1)\n",
    "  sorted_a2 = merge_sort(a2)\n",
    "  \n",
    "  sorted_a = merge_2_sorted_arrays(sorted_a1, sorted_a2)\n",
    "  return sorted_a"
   ]
  },
  {
   "cell_type": "code",
   "execution_count": 14,
   "id": "3855f0d9",
   "metadata": {},
   "outputs": [],
   "source": [
    "a = [random.randint(0, 10000) for _ in range(256)]"
   ]
  },
  {
   "cell_type": "code",
   "execution_count": 15,
   "id": "d01b6e38",
   "metadata": {},
   "outputs": [],
   "source": [
    "k = 0"
   ]
  },
  {
   "cell_type": "code",
   "execution_count": 16,
   "id": "7b0eef76",
   "metadata": {},
   "outputs": [],
   "source": [
    "sorted_a = merge_sort(a)"
   ]
  },
  {
   "cell_type": "code",
   "execution_count": 17,
   "id": "c8e10072",
   "metadata": {},
   "outputs": [
    {
     "name": "stdout",
     "output_type": "stream",
     "text": [
      "size 256 iterations 2048 O(N) 1.38 NlogN 2048 N^2 65536\n"
     ]
    }
   ],
   "source": [
    "print_complexity(a, k)"
   ]
  },
  {
   "cell_type": "code",
   "execution_count": null,
   "id": "662d083a",
   "metadata": {},
   "outputs": [],
   "source": []
  }
 ],
 "metadata": {
  "kernelspec": {
   "display_name": "Python 3 (ipykernel)",
   "language": "python",
   "name": "python3"
  },
  "language_info": {
   "codemirror_mode": {
    "name": "ipython",
    "version": 3
   },
   "file_extension": ".py",
   "mimetype": "text/x-python",
   "name": "python",
   "nbconvert_exporter": "python",
   "pygments_lexer": "ipython3",
   "version": "3.9.12"
  }
 },
 "nbformat": 4,
 "nbformat_minor": 5
}
